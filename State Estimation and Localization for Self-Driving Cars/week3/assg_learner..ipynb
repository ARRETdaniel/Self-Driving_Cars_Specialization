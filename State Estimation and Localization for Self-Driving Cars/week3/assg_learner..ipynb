{
 "cells": [
  {
   "cell_type": "markdown",
   "metadata": {},
   "source": [
    "## Introduction\n",
    "-----\n",
    "\n",
    "In this assignment you will recursively estimate the position of a vehicle along a trajectory using available measurements and a motion model. \n",
    "\n",
    "The vehicle is equipped with a very simple type of LIDAR sensor, which returns range and bearing measurements corresponding to individual landmarks in the environment. The global positions of the landmarks are assumed to be known beforehand. We will also assume known data association, that is, which measurment belong to which landmark.\n",
    "\n",
    "## Motion and Measurement Models\n",
    "-----\n",
    "\n",
    "### Motion Model\n",
    "\n",
    "The vehicle motion model recieves linear and angular velocity odometry readings as inputs, and outputs the state (i.e., the 2D pose) of the vehicle:\n",
    "\n",
    "\\begin{align}\n",
    "\\mathbf{x}_{k} &= \\mathbf{x}_{k-1} + T\n",
    "\\begin{bmatrix}\n",
    "\\cos\\theta_{k-1} &0 \\\\\n",
    "\\sin\\theta_{k-1} &0 \\\\\n",
    "0 &1\n",
    "\\end{bmatrix}\n",
    "\\left(\n",
    "\\begin{bmatrix}\n",
    "v_k \\\\\n",
    "\\omega_k\n",
    "\\end{bmatrix}\n",
    "+ \\mathbf{w}_k\n",
    "\\right)\n",
    "\\, , \\, \\, \\, \\, \\, \\mathbf{w}_k = \\mathcal{N}\\left(\\mathbf{0}, \\mathbf{Q}\\right)\n",
    "\\end{align}\n",
    "\n",
    "- $\\mathbf{x}_k = \\left[ x \\, y \\, \\theta \\right]^T$ is the current 2D pose of the vehicle\n",
    "- $v_k$ and $\\omega_k$ are the linear and angular velocity odometry readings, which we use as inputs to the model\n",
    "\n",
    "The process noise $\\mathbf{w}_k$ has a (zero mean) normal distribution with a constant covariance $\\mathbf{Q}$.\n",
    "\n",
    "### Measurement Model\n",
    "\n",
    "The measurement model relates the current pose of the vehicle to the LIDAR range and bearing measurements $\\mathbf{y}^l_k = \\left[r \\, \\phi \\right]^T$.\n",
    "\n",
    "\\begin{align}\n",
    "\\mathbf{y}^l_k =\n",
    "\\begin{bmatrix}\n",
    "\\sqrt{(x_l - x_k - d\\cos\\theta_{k})^2 + (y_l - y_k - d\\sin\\theta_{k})^2} \\\\\n",
    "atan2\\left(y_l - y_k - d\\sin\\theta_{k},x_l - x_k - d\\cos\\theta_{k}\\right) - \\theta_k\n",
    "\\end{bmatrix}\n",
    "+\n",
    "\\mathbf{n}^l_k\n",
    "\\, , \\, \\, \\, \\, \\, \\mathbf{n}^l_k = \\mathcal{N}\\left(\\mathbf{0}, \\mathbf{R}\\right)\n",
    "\\end{align}\n",
    "\n",
    "- $x_l$ and $y_l$ are the ground truth coordinates of the landmark $l$\n",
    "- $x_k$ and $y_k$ and $\\theta_{k}$ represent the current pose of the vehicle\n",
    "- $d$ is the known distance between robot center and laser rangefinder (LIDAR)\n",
    "\n",
    "The landmark measurement noise $\\mathbf{n}^l_k$ has a (zero mean) normal distribution with a constant covariance $\\mathbf{R}$.\n",
    "\n",
    "## Getting Started\n",
    "-----\n",
    "\n",
    "Since the models above are nonlinear, we recommend using the extended Kalman filter (EKF) as the state estimator.\n",
    "Specifically, you will need to provide code implementing the following steps:\n",
    "- the prediction step, which uses odometry measurements and the motion model to produce a state and covariance estimate at a given timestep, and\n",
    "- the correction step, which uses the range and bearing measurements provided by the LIDAR to correct the pose and pose covariance estimates\n",
    "\n",
    "### Unpack the Data\n",
    "First, let's unpack the available data:"
   ]
  },
  {
   "cell_type": "code",
   "execution_count": 9,
   "metadata": {},
   "outputs": [],
   "source": [
    "import pickle\n",
    "import numpy as np\n",
    "import matplotlib.pyplot as plt\n",
    "\n",
    "with open('data/data.pickle', 'rb') as f:\n",
    "    data = pickle.load(f)\n",
    "\n",
    "t = data['t']  # timestamps [s]\n",
    "\n",
    "x_init  = data['x_init'] # initial x position [m]\n",
    "y_init  = data['y_init'] # initial y position [m]\n",
    "th_init = data['th_init'] # initial theta position [rad]\n",
    "\n",
    "# input signal\n",
    "v  = data['v']  # translational velocity input [m/s]\n",
    "om = data['om']  # rotational velocity input [rad/s]\n",
    "\n",
    "# bearing and range measurements, LIDAR constants\n",
    "b = data['b']  # bearing to each landmarks center in the frame attached to the laser [rad]\n",
    "r = data['r']  # range measurements [m]\n",
    "l = data['l']  # x,y positions of landmarks [m]\n",
    "d = data['d']  # distance between robot center and laser rangefinder [m]\n",
    "# print(x_init)"
   ]
  },
  {
   "cell_type": "markdown",
   "metadata": {},
   "source": [
    "Note that distance from the LIDAR frame to the robot center is provided and loaded as an array into the `d` variable.\n",
    "\n",
    "### Ground Truth\n",
    "If available, it is useful to plot the ground truth position and orientation before starting the assignment.\n",
    "\n",
    "<table><tr>\n",
    "<td> <img src=\"data/gtruth.png\" alt=\"Ground Truth\" width=\"350\"/> </td>\n",
    "<td> <img src=\"data/gtruth2.png\" alt=\"Ground Truth\" width=\"350\"/> </td>\n",
    "</tr></table>\n",
    "\n",
    "Notice that the orientation values are wrapped to the $\\left[-\\pi,\\pi\\right]$ range in radians."
   ]
  },
  {
   "cell_type": "markdown",
   "metadata": {},
   "source": [
    "### Initializing Parameters\n",
    "\n",
    "Now that our data is loaded, we can begin getting things set up for our solver. One of the\n",
    "most important aspects of designing a filter is determining the input and measurement noise covariance matrices, as well as the initial state and covariance values. We set the values here:"
   ]
  },
  {
   "cell_type": "code",
   "execution_count": 10,
   "metadata": {},
   "outputs": [],
   "source": [
    "v_var = 0.01  # translation velocity variance\n",
    "om_var = 10  # rotational velocity variance\n",
    "r_var = 0.0001  # range measurements variance\n",
    "b_var = 0.052  # bearing measurement variance\n",
    "\n",
    "Q_km = np.diag([v_var, om_var]) # input noise covariance\n",
    "cov_y = np.diag([r_var, b_var])  # measurement noise covariance\n",
    "\n",
    "x_est = np.zeros([len(v), 3])  # estimated states, x, y, and theta\n",
    "P_est = np.zeros([len(v), 3, 3])  # state covariance matrices\n",
    "\n",
    "x_est[0] = np.array([x_init, y_init, th_init]) # initial state\n",
    "P_est[0] = np.diag([1, 1, 0.1]) # initial state covariance"
   ]
  },
  {
   "cell_type": "markdown",
   "metadata": {},
   "source": [
    "**Remember:** that it is neccessary to tune the measurement noise variances `r_var`, `b_var` in order for the filter to perform well!\n",
    "\n",
    "In order for the orientation estimates to coincide with the bearing measurements, it is also neccessary to wrap all estimated $\\theta$ values to the $(-\\pi , \\pi]$ range."
   ]
  },
  {
   "cell_type": "code",
   "execution_count": 11,
   "metadata": {},
   "outputs": [],
   "source": [
    "# Wraps angle to (-pi,pi] range\n",
    "def wraptopi(x):\n",
    "    if x > np.pi:\n",
    "        x = x - (np.floor(x / (2 * np.pi)) + 1) * 2 * np.pi\n",
    "    elif x < -np.pi:\n",
    "        x = x + (np.floor(x / (-2 * np.pi)) + 1) * 2 * np.pi\n",
    "    return x\n",
    "\n",
    "# def wraptopi(x):\n",
    "#     return (x + np.pi)%(2*np.pi) - np.pi"
   ]
  },
  {
   "cell_type": "markdown",
   "metadata": {},
   "source": [
    "\n",
    "## Correction Step\n",
    "-----\n",
    "First, let's implement the measurement update function, which takes an available landmark measurement $l$ and updates the current state estimate $\\mathbf{\\check{x}}_k$.\n",
    "For each landmark measurement received at a given timestep $k$, you should implement the following steps:\n",
    "\n",
    "- Compute the measurement model Jacobians at $\\mathbf{\\check{x}}_{k}$\n",
    "\\begin{align}\n",
    "\\mathbf{y}^l_k = &\\mathbf{h}(\\mathbf{x}_{k}, \\mathbf{n}^l_k) \\\\\\\\\n",
    "\\mathbf{H}_{k} = \\frac{\\partial \\mathbf{h}}{\\partial \\mathbf{x}_{k}}\\bigg|_{\\mathbf{\\check{x}}_{k},0}& \\, , \\, \\, \\, \\,\n",
    "\\mathbf{M}_{k} = \\frac{\\partial \\mathbf{h}}{\\partial \\mathbf{n}_{k}}\\bigg|_{\\mathbf{\\check{x}}_{k},0} \\, .\n",
    "\\end{align}\n",
    "- Compute the Kalman Gain\n",
    "\\begin{align}\n",
    "\\mathbf{K}_k &= \\mathbf{\\check{P}}_k \\mathbf{H}_k^T \\left(\\mathbf{H}_k \\mathbf{\\check{P}}_k \\mathbf{H}_k^T + \\mathbf{M}_k \\mathbf{R}_k \\mathbf{M}_k^T \\right)^{-1} \n",
    "\\end{align}\n",
    "- Correct the predicted state\n",
    "\\begin{align}\n",
    "\\mathbf{\\check{y}}^l_k &= \\mathbf{h}\\left(\\mathbf{\\check{x}}_k, \\mathbf{0}\\right) \\\\\n",
    "\\mathbf{\\hat{x}}_k &= \\mathbf{\\check{x}}_k + \\mathbf{K}_k \\left(\\mathbf{y}^l_k - \\mathbf{\\check{y}}^l_k\\right)\n",
    "\\end{align}\n",
    "- Correct the covariance\n",
    "\\begin{align}\n",
    "\\mathbf{\\hat{P}}_k &= \\left(\\mathbf{I} - \\mathbf{K}_k \\mathbf{H}_k \\right)\\mathbf{\\check{P}}_k\n",
    "\\end{align}"
   ]
  },
  {
   "cell_type": "code",
   "execution_count": 12,
   "metadata": {
    "collapsed": true
   },
   "outputs": [],
   "source": [
    "def measurement_update(lk, rk, bk, P_check, x_check):\n",
    "\n",
    "    xl, yl = lk\n",
    "    xk = x_check[0]\n",
    "    yk = x_check[1]\n",
    "\n",
    "    thk = x_check[2]\n",
    "    bk = wraptopi(bk)\n",
    "    ylk = np.array([rk, bk])\n",
    "    Pk = P_check\n",
    "    Rk = cov_y\n",
    "    dd = d[0]\n",
    "\n",
    "    # 1. Compute measurement Jacobian\n",
    "    den1 = np.sqrt((xl - xk - dd*np.cos(thk))**2 + (yl - yk - dd*np.sin(thk))**2)\n",
    "    num11 = -2*(xl - xk - dd*np.cos(thk))\n",
    "    num12 = -2*(yl - yk - dd*np.sin(thk))\n",
    "    num13 = 2*(xl - xk - dd*np.cos(thk))*dd*np.sin(thk) - 2*(yl - yk - dd*np.sin(thk))*dd*np.cos(thk)\n",
    "    den2 = (yl - yk - dd*np.sin(thk))**2/((xl - xk - dd*np.cos(thk))**2) + 1\n",
    "    num21 = (yl - yk - dd*np.sin(thk))/((xl - xk - dd*np.cos(thk))**2)\n",
    "    num22 = -1/(xl - xk - dd*np.cos(thk))\n",
    "    num23 = (-dd*np.cos(thk)*(xl - xk - dd*np.cos(thk)) - (yl - yk - dd*np.sin(thk))*dd*np.sin(thk))/\\\n",
    "            ((xl - xk - dd*np.cos(thk)))**2\n",
    "\n",
    "    Hk = np.array([[num11/den1, num12/den1, num13/den2],\n",
    "                    [num21/den2, num22/den2, num23/den2 - 1]])\n",
    "    Mk = np.identity(2)\n",
    "\n",
    "    # 2. Compute Kalman Gain\n",
    "    Kk = (Pk.dot(Hk.T)).dot(np.linalg.inv(Hk.dot(Pk.dot(Hk.T)) + Mk.dot(Rk.dot(Mk.T))))\n",
    "\n",
    "    # 3. Correct predicted state (remember to wrap the angles to [-pi,pi])\n",
    "    a1 = den1\n",
    "    a2 = np.arctan2(yl - yk - dd*np.sin(thk), xl - xk - dd*np.cos(thk)) - thk\n",
    "    a2 = wraptopi(a2)\n",
    "    y_check = np.array([a1, a2]) # Compute predicted measurement\n",
    "\n",
    "    x_hat = x_check + Kk.dot(ylk - y_check)\n",
    "    x_hat[2] = wraptopi(x_hat[2])\n",
    "\n",
    "    # 4. Correct covariance\n",
    "    P_hat = (np.identity(3) - Kk.dot(Hk)).dot(P_check)\n",
    "\n",
    "    return x_hat, P_hat"
   ]
  },
  {
   "cell_type": "markdown",
   "metadata": {},
   "source": [
    "## Prediction Step\n",
    "-----\n",
    "Now, implement the main filter loop, defining the prediction step of the EKF using the motion model provided:\n",
    "\n",
    "\\begin{align}\n",
    "\\mathbf{\\check{x}}_k &= \\mathbf{f}\\left(\\mathbf{\\hat{x}}_{k-1}, \\mathbf{u}_{k-1}, \\mathbf{0} \\right) \\\\\n",
    "\\mathbf{\\check{P}}_k &= \\mathbf{F}_{k-1}\\mathbf{\\hat{P}}_{k-1}\\mathbf{F}_{k-1}^T + \\mathbf{L}_{k-1}\\mathbf{Q}_{k-1}\\mathbf{L}_{k-1}^T \\, .\n",
    "\\end{align}\n",
    "\n",
    "Where\n",
    "\n",
    "\\begin{align}\n",
    "\\mathbf{F}_{k-1} = \\frac{\\partial \\mathbf{f}}{\\partial \\mathbf{x}_{k-1}}\\bigg|_{\\mathbf{\\hat{x}}_{k-1},\\mathbf{u}_{k},0}  \\, , \\, \\, \\, \\,\n",
    "\\mathbf{L}_{k-1} = \\frac{\\partial \\mathbf{f}}{\\partial \\mathbf{w}_{k}}\\bigg|_{\\mathbf{\\hat{x}}_{k-1},\\mathbf{u}_{k},0} \\, .\n",
    "\\end{align}"
   ]
  },
  {
   "cell_type": "code",
   "execution_count": 13,
   "metadata": {},
   "outputs": [
    {
     "name": "stderr",
     "output_type": "stream",
     "text": [
      "C:\\Users\\danie\\AppData\\Local\\Temp\\ipykernel_2432\\2376104078.py:13: RuntimeWarning: overflow encountered in scalar negative\n",
      "  F_km = np.array([[1, 0, -delta_t*np.sin(th_k)*v[k]],\n"
     ]
    }
   ],
   "source": [
    "#### 5. Main Filter Loop #######################################################################\n",
    "for k in range(1, len(t)):  # start at 1 because we've set the initial prediciton\n",
    "\n",
    "    delta_t = t[k] - t[k - 1]  # time step (difference between timestamps)\n",
    "\n",
    "    # 1. Update state with odometry readings (remember to wrap the angles to [-pi,pi])\n",
    "    u_k = np.array([v[k], om[k]])\n",
    "    th_k = x_est[k-1][2]\n",
    "    x_check = x_est[k-1] + delta_t*np.array([[np.cos(th_k), 0], [np.sin(th_k), 0], [0, 1]]).dot(u_k)\n",
    "    x_check[2] = wraptopi(x_check[2])\n",
    "\n",
    "    # 2. Motion model jacobian with respect to last state\n",
    "    F_km = np.array([[1, 0, -delta_t*np.sin(th_k)*v[k]],\n",
    "                     [0, 1, delta_t*np.cos(th_k)*v[k]],\n",
    "                     [0, 0, 1]])\n",
    "\n",
    "    # 3. Motion model jacobian with respect to noise\n",
    "    L_km = np.array([[delta_t*np.cos(th_k), 0],\n",
    "                     [delta_t*np.sin(th_k), 0],\n",
    "                     [0, delta_t]])\n",
    "\n",
    "    # 4. Propagate uncertainty\n",
    "    P_check = F_km.dot(P_est[k-1].dot(F_km.T)) + L_km.dot(Q_km.dot(L_km.T))\n",
    "\n",
    "    # 5. Update state estimate using available landmark measurements\n",
    "    for i in range(len(r[k])):\n",
    "        x_check, P_check = measurement_update(l[i], r[k, i], b[k, i], P_check, x_check)\n",
    "\n",
    "    # Set final state predictions for timestep\n",
    "    x_est[k, 0] = x_check[0]\n",
    "    x_est[k, 1] = x_check[1]\n",
    "    x_est[k, 2] = x_check[2]\n",
    "    P_est[k, :, :] = P_check"
   ]
  },
  {
   "cell_type": "markdown",
   "metadata": {},
   "source": [
    "Let's plot the resulting state estimates:"
   ]
  },
  {
   "cell_type": "code",
   "execution_count": 14,
   "metadata": {
    "collapsed": true
   },
   "outputs": [
    {
     "data": {
      "image/png": "[encoded data removed]",
      "text/plain": [
       "<Figure size 640x480 with 1 Axes>"
      ]
     },
     "metadata": {},
     "output_type": "display_data"
    },
    {
     "data": {
      "image/png": "[encoded data removed]",
      "text/plain": [
       "<Figure size 640x480 with 1 Axes>"
      ]
     },
     "metadata": {},
     "output_type": "display_data"
    }
   ],
   "source": [
    "e_fig = plt.figure()\n",
    "ax = e_fig.add_subplot(111)\n",
    "ax.plot(x_est[:, 0], x_est[:, 1])\n",
    "ax.set_xlabel('x [m]')\n",
    "ax.set_ylabel('y [m]')\n",
    "ax.set_title('Estimated trajectory')\n",
    "plt.show()\n",
    "\n",
    "e_fig = plt.figure()\n",
    "ax = e_fig.add_subplot(111)\n",
    "ax.plot(t[:], x_est[:, 2])\n",
    "ax.set_xlabel('Time [s]')\n",
    "ax.set_ylabel('theta [rad]')\n",
    "ax.set_title('Estimated trajectory')\n",
    "plt.show()"
   ]
  },
  {
   "cell_type": "markdown",
   "metadata": {},
   "source": [
    "Are you satisfied wth your results? The resulting trajectory should closely resemble the ground truth, with minor \"jumps\" in the orientation estimate due to angle wrapping. If this is the case, run the code below to produce your solution file."
   ]
  },
  {
   "cell_type": "code",
   "execution_count": 15,
   "metadata": {
    "collapsed": true
   },
   "outputs": [],
   "source": [
    "with open('submission.pkl', 'wb') as f:\n",
    "    pickle.dump(x_est, f, pickle.HIGHEST_PROTOCOL)"
   ]
  },
  {
   "cell_type": "code",
   "execution_count": 18,
   "metadata": {},
   "outputs": [
    {
     "name": "stdout",
     "output_type": "stream",
     "text": [
      "P_test: [[ 1.   2.   2. ]\n",
      " [ 2.   0.   5. ]\n",
      " [ 3.  -1.   7.5]\n",
      " [ 4.   3.   7.5]\n",
      " [ 5.   5.   8.5]]\n",
      "A.shape: (5, 3)\n",
      "z.shape: (5,)\n",
      "params: [ 1.   2.  -0.5]\n",
      "residuals: [8.01186857e-31]\n",
      "rank: 3\n",
      "singular values: [9.35530208 3.27000819 0.88621075]\n",
      "True parameters:     [a, b, c] =  [1, 2, -0.5]\n",
      "Estimated parameters [a, b, c] =  [ 1.   2.  -0.5]\n",
      "Test passed!\n"
     ]
    }
   ],
   "source": [
    "import numpy as np\n",
    "\n",
    "def sph_to_cart(epsilon, alpha, r):\n",
    "    \"\"\"\n",
    "    Transform sensor readings to Cartesian coordinates in the sensor\n",
    "    frame. The values of epsilon and alpha are given in radians, while\n",
    "    r is in metres. Epsilon is the elevation angle and alpha is the\n",
    "    azimuth angle (i.e., in the x,y plane).\n",
    "    \"\"\"\n",
    "    # Calculate Cartesian coordinates\n",
    "    x = r * np.cos(epsilon) * np.cos(alpha)\n",
    "    y = r * np.cos(epsilon) * np.sin(alpha)\n",
    "    z = r * np.sin(epsilon)\n",
    "\n",
    "    # Position vector\n",
    "    p = np.array([x, y, z])\n",
    "\n",
    "    return p\n",
    "\n",
    "def estimate_params(P):\n",
    "    \"\"\"\n",
    "    Estimate parameters from sensor readings in the Cartesian frame.\n",
    "    Each row in the P matrix contains a single 3D point measurement;\n",
    "    the matrix P has size n x 3 (for n points). The format is:\n",
    "\n",
    "    P = [[x1, y1, z1],\n",
    "         [x2, x2, z2], ...]\n",
    "\n",
    "    where all coordinate values are in metres. Three parameters are\n",
    "    required to fit the plane, a, b, and c, according to the equation\n",
    "\n",
    "    z = a + bx + cy\n",
    "\n",
    "    The function should return the parameters as a NumPy array of size\n",
    "    three, in the order [a, b, c].\n",
    "    \"\"\"\n",
    "    # Extract x, y, z coordinates from P\n",
    "    x = P[:, 0]\n",
    "    y = P[:, 1]\n",
    "    z = P[:, 2]\n",
    "\n",
    "    # Check dimensions to avoid errors\n",
    "    assert P.shape[1] == 3, f\"Input matrix P should have 3 columns, but got {P.shape[1]}\"\n",
    "\n",
    "    # Set up the design matrix for linear regression\n",
    "    # Each row corresponds to [1, x_i, y_i] for a point (x_i, y_i, z_i)\n",
    "    A = np.vstack([np.ones(x.shape), x, y]).T\n",
    "\n",
    "    # Log the dimensions of the matrices to debug\n",
    "    print(f\"A.shape: {A.shape}\")\n",
    "    print(f\"z.shape: {z.shape}\")\n",
    "\n",
    "    # Ensure the matrix A and z are the correct shape\n",
    "    assert A.shape[0] == z.shape[0], \"Number of rows in A must match length of z\"\n",
    "\n",
    "    # Solve the least squares problem A @ [a, b, c] = z\n",
    "    # np.linalg.lstsq returns the solution to minimize the residuals\n",
    "    params, residuals, rank, s = np.linalg.lstsq(A, z, rcond=None)\n",
    "\n",
    "    # Log the least squares results for debugging\n",
    "    print(f\"params: {params}\")\n",
    "    print(f\"residuals: {residuals}\")\n",
    "    print(f\"rank: {rank}\")\n",
    "    print(f\"singular values: {s}\")\n",
    "\n",
    "    return params\n",
    "\n",
    "def test_lidar_plane_estimation():\n",
    "    # True parameters of the plane: z = 1 + 2x - 0.5y\n",
    "    a_true = 1\n",
    "    b_true = 2\n",
    "    c_true = -0.5\n",
    "\n",
    "    # Generate test points (x, y) and calculate corresponding z\n",
    "    x_test = np.array([1, 2, 3, 4, 5])\n",
    "    y_test = np.array([2, 0, -1, 3, 5])\n",
    "    z_test = a_true + b_true * x_test + c_true * y_test\n",
    "\n",
    "    # Combine into matrix P (each row is a point [x, y, z])\n",
    "    P_test = np.vstack([x_test, y_test, z_test]).T\n",
    "\n",
    "    # Log the test points\n",
    "    print(f\"P_test: {P_test}\")\n",
    "\n",
    "    # Estimate parameters\n",
    "    estimated_params = estimate_params(P_test)\n",
    "\n",
    "    # Print true vs estimated parameters\n",
    "    print(\"True parameters:     [a, b, c] = \", [a_true, b_true, c_true])\n",
    "    print(\"Estimated parameters [a, b, c] = \", estimated_params)\n",
    "\n",
    "    # Check if the estimated parameters are close to the true parameters\n",
    "    assert np.allclose(estimated_params, [a_true, b_true, c_true], atol=1e-6), \"Test failed!\"\n",
    "    print(\"Test passed!\")\n",
    "\n",
    "# Run the test\n",
    "test_lidar_plane_estimation()\n"
   ]
  }
 ],
 "metadata": {
  "kernelspec": {
   "display_name": "Python 3.6.8 64-bit",
   "language": "python",
   "name": "python3"
  },
  "language_info": {
   "codemirror_mode": {
    "name": "ipython",
    "version": 3
   },
   "file_extension": ".py",
   "mimetype": "text/x-python",
   "name": "python",
   "nbconvert_exporter": "python",
   "pygments_lexer": "ipython3",
   "version": "3.12.0"
  },
  "vscode": {
   "interpreter": {
    "hash": "f4e9cda46bb2d9d7fe6ecdff0f8336a934348bf06cb492f2f42f60739b3403b4"
   }
  }
 },
 "nbformat": 4,
 "nbformat_minor": 1
}
