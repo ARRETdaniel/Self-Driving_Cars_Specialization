{
 "cells": [
  {
   "cell_type": "code",
   "execution_count": 38,
   "metadata": {},
   "outputs": [],
   "source": [
    "import pickle\n",
    "import numpy as np\n",
    "import matplotlib.pyplot as plt\n",
    "from mpl_toolkits.mplot3d import Axes3D\n",
    "from rotations import angle_normalize, rpy_jacobian_axis_angle, skew_symmetric, Quaternion\n",
    "from numpy import matmul\n"
   ]
  },
  {
   "cell_type": "code",
   "execution_count": 39,
   "metadata": {},
   "outputs": [],
   "source": [
    "# Each element of the data dictionary is stored as an item from the data dictionary, which we\n",
    "# will store in local variables, described by the following:\n",
    "#   gt: Data object containing ground truth. with the following fields:\n",
    "#     a: Acceleration of the vehicle, in the inertial frame\n",
    "#     v: Velocity of the vehicle, in the inertial frame\n",
    "#     p: Position of the vehicle, in the inertial frame\n",
    "#     alpha: Rotational acceleration of the vehicle, in the inertial frame\n",
    "#     w: Rotational velocity of the vehicle, in the inertial frame\n",
    "#     r: Rotational position of the vehicle, in Euler (XYZ) angles in the inertial frame\n",
    "#     _t: Timestamp in ms.\n",
    "#   imu_f: StampedData object with the imu specific force data (given in vehicle frame).\n",
    "#     data: The actual data\n",
    "#     t: Timestamps in ms.\n",
    "#   imu_w: StampedData object with the imu rotational velocity (given in the vehicle frame).\n",
    "#     data: The actual data\n",
    "#     t: Timestamps in ms.\n",
    "#   gnss: StampedData object with the GNSS data.\n",
    "#     data: The actual data\n",
    "#     t: Timestamps in ms.\n",
    "#   lidar: StampedData object with the LIDAR data (positions only).\n",
    "#     data: The actual data\n",
    "#     t: Timestamps in ms."
   ]
  },
  {
   "cell_type": "code",
   "execution_count": 40,
   "metadata": {},
   "outputs": [],
   "source": [
    "plt.rcParams['figure.dpi'] = 70"
   ]
  },
  {
   "cell_type": "code",
   "execution_count": 41,
   "metadata": {},
   "outputs": [],
   "source": [
    "#### 1. Data ###################################################################################\n",
    "\n",
    "################################################################################################\n",
    "# This is where you will load the data from the pickle files. For parts 1 and 2, you will use\n",
    "# p1_data.pkl. For Part 3, you will use pt3_data.pkl.\n",
    "################################################################################################"
   ]
  },
  {
   "cell_type": "code",
   "execution_count": 42,
   "metadata": {},
   "outputs": [],
   "source": [
    "with open('data/pt3_data.pkl', 'rb') as file:\n",
    "    data = pickle.load(file)"
   ]
  },
  {
   "cell_type": "code",
   "execution_count": 43,
   "metadata": {},
   "outputs": [],
   "source": [
    "################################################################################################\n",
    "# Each element of the data dictionary is stored as an item from the data dictionary, which we\n",
    "# will store in local variables, described by the following:\n",
    "#   gt: Data object containing ground truth. with the following fields:\n",
    "#     a: Acceleration of the vehicle, in the inertial frame\n",
    "#     v: Velocity of the vehicle, in the inertial frame\n",
    "#     p: Position of the vehicle, in the inertial frame\n",
    "#     alpha: Rotational acceleration of the vehicle, in the inertial frame\n",
    "#     w: Rotational velocity of the vehicle, in the inertial frame\n",
    "#     r: Rotational position of the vehicle, in Euler (XYZ) angles in the inertial frame\n",
    "#     _t: Timestamp in ms.\n",
    "#   imu_f: StampedData object with the imu specific force data (given in vehicle frame).\n",
    "#     data: The actual data\n",
    "#     t: Timestamps in ms.\n",
    "#   imu_w: StampedData object with the imu rotational velocity (given in the vehicle frame).\n",
    "#     data: The actual data\n",
    "#     t: Timestamps in ms.\n",
    "#   gnss: StampedData object with the GNSS data.\n",
    "#     data: The actual data\n",
    "#     t: Timestamps in ms.\n",
    "#   lidar: StampedData object with the LIDAR data (positions only).\n",
    "#     data: The actual data\n",
    "#     t: Timestamps in ms.\n",
    "################################################################################################"
   ]
  },
  {
   "cell_type": "code",
   "execution_count": 44,
   "metadata": {
    "scrolled": true
   },
   "outputs": [],
   "source": [
    "gt = data['gt']\n",
    "imu_f = data['imu_f']\n",
    "imu_w = data['imu_w']\n",
    "gnss = data['gnss']\n",
    "lidar = data['lidar']"
   ]
  },
  {
   "cell_type": "code",
   "execution_count": 45,
   "metadata": {},
   "outputs": [
    {
     "data": {
      "text/plain": [
       "{'do_diff': True,\n",
       " '_p_init': array([[ 8.34462935e-06,  9.08568545e-05, -5.00664425e+00],\n",
       "        [ 7.85825614e-06,  9.12463729e-05, -5.00662613e+00],\n",
       "        [ 7.38141944e-06,  9.16224817e-05, -5.00660801e+00],\n",
       "        ...,\n",
       "        [ 1.86048538e+02,  7.77716217e+01, -5.00547981e+00],\n",
       "        [ 1.86111771e+02,  7.77564240e+01, -5.00548649e+00],\n",
       "        [ 1.86174973e+02,  7.77412415e+01, -5.00549507e+00]]),\n",
       " '_r_init': array([[-4.10126808e-05, -6.78300823e-05,  1.06526437e-06],\n",
       "        [-3.99474123e-05, -6.62803603e-05,  1.06526437e-06],\n",
       "        [-3.88821479e-05, -6.48498500e-05,  1.06526437e-06],\n",
       "        ...,\n",
       "        [ 2.21818388e-05, -3.69322291e-03, -2.35822166e-01],\n",
       "        [ 2.22517703e-05, -3.64327407e-03, -2.35821783e-01],\n",
       "        [ 2.23312779e-05, -3.58641116e-03, -2.35821466e-01]]),\n",
       " '_v_init': array([None], dtype=object),\n",
       " '_w_init': array([None], dtype=object),\n",
       " '_a_init': array([None], dtype=object),\n",
       " '_alpha_init': array([None], dtype=object),\n",
       " '_t': array([ 2.055,  2.06 ,  2.065, ..., 56.64 , 56.645, 56.65 ]),\n",
       " '_p': array([[ 0.00000000e+00,  0.00000000e+00,  0.00000000e+00],\n",
       "        [-4.86373210e-07,  3.89518391e-07,  1.81198120e-05],\n",
       "        [-9.63209914e-07,  7.65627192e-07,  3.62396240e-05],\n",
       "        ...,\n",
       "        [ 1.03432021e+02,  1.86314011e+02,  1.22690201e-03],\n",
       "        [ 1.03486778e+02,  1.86271821e+02,  1.22404099e-03],\n",
       "        [ 1.03541534e+02,  1.86229615e+02,  1.22165680e-03]]),\n",
       " '_r': array([[-4.10126808e-05, -6.78300823e-05,  1.06526437e-06],\n",
       "        [-3.99474123e-05, -6.62803603e-05,  1.06526437e-06],\n",
       "        [-3.88821479e-05, -6.48498500e-05,  1.06526437e-06],\n",
       "        ...,\n",
       "        [-2.56196071e-03, -3.46219524e-03, -6.56093237e-01],\n",
       "        [-2.49378352e-03, -3.45718829e-03, -6.56092438e-01],\n",
       "        [-2.42720502e-03, -3.45218160e-03, -6.56091905e-01]]),\n",
       " '_v': array([[-9.72746420e-05,  7.79036782e-05,  3.62396240e-03],\n",
       "        [-9.53673407e-05,  7.52217602e-05,  3.62396240e-03],\n",
       "        [-9.34600394e-05,  7.33722118e-05,  3.43322754e-03],\n",
       "        ...,\n",
       "        [ 1.09512329e+01, -8.43811035e+00, -5.72204590e-04],\n",
       "        [ 1.09512329e+01, -8.44116211e+00, -4.76837158e-04],\n",
       "        [ 1.09542847e+01, -8.44116211e+00, -5.72204590e-04]]),\n",
       " '_w': array([[2.13053700e-04, 3.09944390e-04, 1.27116503e-08],\n",
       "        [2.13052887e-04, 2.86102076e-04, 1.14290376e-08],\n",
       "        [2.13052074e-04, 2.86102076e-04, 1.11242632e-08],\n",
       "        ...,\n",
       "        [1.36359900e-02, 1.00097752e-03, 1.62353703e-04],\n",
       "        [1.33160697e-02, 1.00106940e-03, 1.09022594e-04],\n",
       "        [1.29970656e-02, 1.00081810e-03, 2.15481441e-04]]),\n",
       " '_a': array([[ 3.81460268e-04, -5.36383595e-04,  9.81000000e+00],\n",
       "        [ 3.81460268e-04, -3.69909685e-04,  9.77185303e+00],\n",
       "        [ 7.62938726e-04, -5.95755409e-04,  9.79092651e+00],\n",
       "        ...,\n",
       "        [ 3.11253245e-09, -6.10351565e-01,  9.82907349e+00],\n",
       "        [ 6.10351559e-01,  2.39914755e-09,  9.79092651e+00],\n",
       "        [ 9.15527347e-01, -1.22070313e+00,  9.82907349e+00]]),\n",
       " '_alpha': array([[-1.62546453e-07, -4.76846275e-03, -2.56522546e-07],\n",
       "        [-1.62546453e-07,  2.40306906e-12, -6.09548733e-08],\n",
       "        [ 3.25092903e-07,  2.33195624e-12, -6.09546408e-08],\n",
       "        ...,\n",
       "        [-6.39840632e-02,  1.83755593e-05, -1.06662218e-02],\n",
       "        [-6.38008114e-02, -5.02606774e-05,  2.12917694e-02],\n",
       "        [-4.26983045e-02,  4.46576785e-05, -1.33286709e-02]])}"
      ]
     },
     "execution_count": 45,
     "metadata": {},
     "output_type": "execute_result"
    }
   ],
   "source": [
    "gt.__dict__"
   ]
  },
  {
   "cell_type": "code",
   "execution_count": 46,
   "metadata": {},
   "outputs": [
    {
     "data": {
      "text/plain": [
       "array([[-1.21543380e+00, -9.50942168e-02, -4.99910491e-01],\n",
       "       [ 1.51615773e-01, -3.22337937e-01,  1.98545449e-01],\n",
       "       [-2.59387164e-01, -6.74227693e-01,  5.02131391e-01],\n",
       "       ...,\n",
       "       [ 1.88739634e+02,  6.00823985e+01,  5.59282323e+00],\n",
       "       [ 1.89719938e+02,  6.04801328e+01,  5.65767381e+00],\n",
       "       [ 1.91144238e+02,  5.93167056e+01,  5.82667079e+00]])"
      ]
     },
     "execution_count": 46,
     "metadata": {},
     "output_type": "execute_result"
    }
   ],
   "source": [
    "lidar.data"
   ]
  },
  {
   "cell_type": "code",
   "execution_count": 47,
   "metadata": {},
   "outputs": [
    {
     "data": {
      "text/plain": [
       "((8734, 3), (8734, 3))"
      ]
     },
     "execution_count": 47,
     "metadata": {},
     "output_type": "execute_result"
    }
   ],
   "source": [
    "gt._v.shape, gt._a.shape"
   ]
  },
  {
   "cell_type": "code",
   "execution_count": 48,
   "metadata": {},
   "outputs": [
    {
     "data": {
      "text/plain": [
       "({'data': array([[-0.01996148,  0.03136036,  9.78135591],\n",
       "         [-0.01986699,  0.03743271,  9.79679338],\n",
       "         [ 0.01269854, -0.02131687,  9.81265361],\n",
       "         ...,\n",
       "         [-1.32458701,  0.35196761,  9.73522034],\n",
       "         [-0.47210374, -0.42987602,  9.76335312],\n",
       "         [-1.31729961,  0.29819817,  9.76891354]]),\n",
       "  't': array([ 2.055,  2.06 ,  2.065, ..., 56.64 , 56.645, 56.65 ])},\n",
       " (10918, 3))"
      ]
     },
     "execution_count": 48,
     "metadata": {},
     "output_type": "execute_result"
    }
   ],
   "source": [
    "imu_f.__dict__, imu_f.data.shape"
   ]
  },
  {
   "cell_type": "code",
   "execution_count": 49,
   "metadata": {},
   "outputs": [],
   "source": [
    "################################################################################################\n",
    "# Let's plot the ground truth trajectory to see what it looks like. When you're testing your\n",
    "# code later, feel free to comment this out.\n",
    "################################################################################################"
   ]
  },
  {
   "cell_type": "code",
   "execution_count": 50,
   "metadata": {},
   "outputs": [
    {
     "data": {
      "image/png": "[encoded data removed]",
      "text/plain": [
       "<Figure size 448x336 with 1 Axes>"
      ]
     },
     "metadata": {},
     "output_type": "display_data"
    }
   ],
   "source": [
    "gt_fig = plt.figure()\n",
    "ax = gt_fig.add_subplot(111, projection='3d')\n",
    "ax.plot(gt.p[:,0], gt.p[:,1], gt.p[:,2])\n",
    "ax.set_xlabel('x [m]')\n",
    "ax.set_ylabel('y [m]')\n",
    "ax.set_zlabel('z [m]')\n",
    "ax.set_title('Ground Truth trajectory')\n",
    "ax.set_zlim(-1, 5)\n",
    "plt.show()"
   ]
  },
  {
   "cell_type": "code",
   "execution_count": 51,
   "metadata": {},
   "outputs": [],
   "source": [
    "################################################################################################\n",
    "# Remember that our LIDAR data is actually just a set of positions estimated from a separate\n",
    "# scan-matching system, so we can insert it into our solver as another position measurement,\n",
    "# just as we do for GNSS. However, the LIDAR frame is not the same as the frame shared by the\n",
    "# IMU and the GNSS. To remedy this, we transform the LIDAR data to the IMU frame using our\n",
    "# known extrinsic calibration rotation matrix C_li and translation vector t_i_li.\n",
    "#\n",
    "# THIS IS THE CODE YOU WILL MODIFY FOR PART 2 OF THE ASSIGNMENT.\n",
    "################################################################################################\n",
    "# Correct calibration rotation matrix, corresponding to Euler RPY angles (0.05, 0.05, 0.1)."
   ]
  },
  {
   "cell_type": "code",
   "execution_count": 52,
   "metadata": {},
   "outputs": [],
   "source": [
    "C_li = np.array([\n",
    "   [ 0.99376, -0.09722,  0.05466],\n",
    "   [ 0.09971,  0.99401, -0.04475],\n",
    "   [-0.04998,  0.04992,  0.9975 ]\n",
    "])"
   ]
  },
  {
   "cell_type": "code",
   "execution_count": 53,
   "metadata": {},
   "outputs": [],
   "source": [
    "# Incorrect calibration rotation matrix, corresponding to Euler RPY angles (0.05, 0.05, 0.05).\n",
    "# C_li = np.array([\n",
    "#      [ 0.9975 , -0.04742,  0.05235],\n",
    "#      [ 0.04992,  0.99763, -0.04742],\n",
    "#      [-0.04998,  0.04992,  0.9975 ]\n",
    "# ])\n"
   ]
  },
  {
   "cell_type": "code",
   "execution_count": 54,
   "metadata": {},
   "outputs": [],
   "source": [
    "t_i_li = np.array([0.5, 0.1, 0.5])"
   ]
  },
  {
   "cell_type": "code",
   "execution_count": 55,
   "metadata": {},
   "outputs": [],
   "source": [
    "# Transform from the LIDAR frame to the vehicle (IMU) frame.\n",
    "lidar.data = (C_li @ lidar.data.T).T + t_i_li"
   ]
  },
  {
   "cell_type": "code",
   "execution_count": 56,
   "metadata": {},
   "outputs": [
    {
     "data": {
      "text/plain": [
       "array([[-7.25929545e-01, -9.33445125e-02,  5.73395632e-02],\n",
       "       [ 6.92859879e-01, -2.14174433e-01,  6.74380219e-01],\n",
       "       [ 3.35226330e-01, -6.18522943e-01,  9.80182787e-01],\n",
       "       ...,\n",
       "       [ 1.82526392e+02,  7.83914550e+01, -3.55052408e-01],\n",
       "       [ 1.83465455e+02,  7.88816509e+01, -3.19504638e-01],\n",
       "       [ 1.85003213e+02,  7.78596469e+01, -2.80194945e-01]])"
      ]
     },
     "execution_count": 56,
     "metadata": {},
     "output_type": "execute_result"
    }
   ],
   "source": [
    "lidar.data"
   ]
  },
  {
   "cell_type": "code",
   "execution_count": 57,
   "metadata": {},
   "outputs": [],
   "source": [
    "#### 2. Constants ##############################################################################\n",
    "\n",
    "################################################################################################\n",
    "# Now that our data is set up, we can start getting things ready for our solver. One of the\n",
    "# most important aspects of a filter is setting the estimated sensor variances correctly.\n",
    "# We set the values here.\n",
    "################################################################################################\n",
    "var_imu_f = 0.05\n",
    "var_imu_w = 0.001\n",
    "var_gnss  = 0.5\n",
    "var_lidar = 0.2"
   ]
  },
  {
   "cell_type": "code",
   "execution_count": 58,
   "metadata": {},
   "outputs": [],
   "source": [
    "################################################################################################\n",
    "# We can also set up some constants that won't change for any iteration of our solver.\n",
    "################################################################################################\n",
    "g = np.array([0, 0, -9.81])  # gravity\n",
    "l_jac = np.zeros([9, 6])\n",
    "l_jac[3:, :] = np.eye(6)  # motion model noise jacobian\n",
    "h_jac = np.zeros([3, 9])\n",
    "h_jac[:, :3] = np.eye(3)  # measurement model jacobian"
   ]
  },
  {
   "cell_type": "code",
   "execution_count": 59,
   "metadata": {},
   "outputs": [],
   "source": [
    "#### 3. Initial Values #########################################################################\n",
    "\n",
    "################################################################################################\n",
    "# Let's set up some initial values for our ES-EKF solver.\n",
    "################################################################################################\n",
    "p_est = np.zeros([imu_f.data.shape[0], 3])  # position estimates\n",
    "v_est = np.zeros([imu_f.data.shape[0], 3])  # velocity estimates\n",
    "q_est = np.zeros([imu_f.data.shape[0], 4])  # orientation estimates as quaternions\n",
    "p_cov = np.zeros([imu_f.data.shape[0], 9, 9])  # covariance matrices at each timestep"
   ]
  },
  {
   "cell_type": "code",
   "execution_count": 60,
   "metadata": {},
   "outputs": [
    {
     "data": {
      "text/plain": [
       "array([[0., 0., 0.],\n",
       "       [0., 0., 0.],\n",
       "       [0., 0., 0.],\n",
       "       ...,\n",
       "       [0., 0., 0.],\n",
       "       [0., 0., 0.],\n",
       "       [0., 0., 0.]])"
      ]
     },
     "execution_count": 60,
     "metadata": {},
     "output_type": "execute_result"
    }
   ],
   "source": [
    "p_est"
   ]
  },
  {
   "cell_type": "code",
   "execution_count": 61,
   "metadata": {},
   "outputs": [],
   "source": [
    "# Set initial values.\n",
    "p_est[0] = gt.p[0]\n",
    "v_est[0] = gt.v[0]\n",
    "q_est[0] = Quaternion(euler=gt.r[0]).to_numpy()\n",
    "p_cov[0] = np.zeros(9)  # covariance of estimate\n",
    "gnss_i  = 0\n",
    "lidar_i = 0"
   ]
  },
  {
   "cell_type": "code",
   "execution_count": 62,
   "metadata": {},
   "outputs": [
    {
     "data": {
      "text/plain": [
       "array([-4.86373210e-07,  3.89518391e-07,  1.81198120e-05])"
      ]
     },
     "execution_count": 62,
     "metadata": {},
     "output_type": "execute_result"
    }
   ],
   "source": [
    "gt.p[1]"
   ]
  },
  {
   "cell_type": "code",
   "execution_count": 63,
   "metadata": {},
   "outputs": [],
   "source": [
    "#### 4. Measurement Update #####################################################################\n",
    "\n",
    "################################################################################################\n",
    "# Since we'll need a measurement update for both the GNSS and the LIDAR data, let's make\n",
    "# a function for it.\n",
    "################################################################################################\n",
    "def measurement_update(sensor_var, p_cov_check, y_k, p_check, v_check, q_check):\n",
    "    # 3.1 Compute Kalman Gain\n",
    "    r_cov = np.eye(3) * sensor_var\n",
    "    k_gain = p_cov_check.dot(h_jac.T).dot(np.linalg.inv(h_jac.dot(p_cov_check).dot(h_jac.T) + r_cov))\n",
    "    # 3.2 Compute error state\n",
    "    x_error = k_gain.dot(y_k - p_check)\n",
    "    # 3.3 Correct predicted state\n",
    "    p_hat = p_check + x_error[0:3]\n",
    "    v_hat = v_check + x_error[3:6]\n",
    "    q_hat = Quaternion(euler=x_error[6:9]).quat_mult_left(q_check)\n",
    "    # 3.4 Compute corrected covariance\n",
    "    p_cov_hat = (np.eye(9) - k_gain.dot(h_jac)).dot(p_cov_check)\n",
    "    return p_hat, v_hat, q_hat, p_cov_hat"
   ]
  },
  {
   "cell_type": "code",
   "execution_count": 64,
   "metadata": {},
   "outputs": [
    {
     "ename": "ValueError",
     "evalue": "setting an array element with a sequence. The requested array has an inhomogeneous shape after 2 dimensions. The detected shape was (3, 3) + inhomogeneous part.",
     "output_type": "error",
     "traceback": [
      "\u001b[1;31m---------------------------------------------------------------------------\u001b[0m",
      "\u001b[1;31mValueError\u001b[0m                                Traceback (most recent call last)",
      "Cell \u001b[1;32mIn[64], line 9\u001b[0m\n\u001b[0;32m      6\u001b[0m \u001b[38;5;66;03m# 1. Update state with IMU inputs\u001b[39;00m\n\u001b[0;32m      7\u001b[0m q_cov \u001b[38;5;241m=\u001b[39m delta_t\u001b[38;5;241m*\u001b[39m\u001b[38;5;241m*\u001b[39m\u001b[38;5;241m2\u001b[39m\u001b[38;5;241m*\u001b[39mnp\u001b[38;5;241m.\u001b[39mdiag([var_imu_f,var_imu_f,var_imu_f,var_imu_w,var_imu_w,var_imu_w])         \u001b[38;5;66;03m# 输入（IMU）的协方差矩阵\u001b[39;00m\n\u001b[1;32m----> 9\u001b[0m Cns \u001b[38;5;241m=\u001b[39m \u001b[43mQuaternion\u001b[49m\u001b[43m(\u001b[49m\u001b[38;5;241;43m*\u001b[39;49m\u001b[43mq_est\u001b[49m\u001b[43m[\u001b[49m\u001b[43mk\u001b[49m\u001b[43m \u001b[49m\u001b[38;5;241;43m-\u001b[39;49m\u001b[43m \u001b[49m\u001b[38;5;241;43m1\u001b[39;49m\u001b[43m]\u001b[49m\u001b[43m)\u001b[49m\u001b[38;5;241;43m.\u001b[39;49m\u001b[43mto_mat\u001b[49m\u001b[43m(\u001b[49m\u001b[43m)\u001b[49m            \u001b[38;5;66;03m# 四元数转旋转矩阵\u001b[39;00m\n\u001b[0;32m     10\u001b[0m p_check \u001b[38;5;241m=\u001b[39m p_est[k \u001b[38;5;241m-\u001b[39m \u001b[38;5;241m1\u001b[39m] \u001b[38;5;241m+\u001b[39m delta_t \u001b[38;5;241m*\u001b[39m v_est[k \u001b[38;5;241m-\u001b[39m \u001b[38;5;241m1\u001b[39m] \u001b[38;5;241m+\u001b[39m (delta_t \u001b[38;5;241m*\u001b[39m\u001b[38;5;241m*\u001b[39m \u001b[38;5;241m2\u001b[39m) \u001b[38;5;241m*\u001b[39m \u001b[38;5;241m0.5\u001b[39m \u001b[38;5;241m*\u001b[39m (matmul(Cns, imu_f\u001b[38;5;241m.\u001b[39mdata[k \u001b[38;5;241m-\u001b[39m \u001b[38;5;241m1\u001b[39m]) \u001b[38;5;241m+\u001b[39m g)\n\u001b[0;32m     11\u001b[0m v_check \u001b[38;5;241m=\u001b[39m v_est[k \u001b[38;5;241m-\u001b[39m \u001b[38;5;241m1\u001b[39m] \u001b[38;5;241m+\u001b[39m delta_t \u001b[38;5;241m*\u001b[39m (matmul(Cns, imu_f\u001b[38;5;241m.\u001b[39mdata[k \u001b[38;5;241m-\u001b[39m \u001b[38;5;241m1\u001b[39m]) \u001b[38;5;241m+\u001b[39m g)\n",
      "File \u001b[1;32mc:\\Users\\danie\\Documents\\Documents\\CURSOS\\Self-Driving_Cars_Specialization\\State Estimation and Localization for Self-Driving Cars\\week6\\solution\\rotations.py:113\u001b[0m, in \u001b[0;36mQuaternion.to_mat\u001b[1;34m(self)\u001b[0m\n\u001b[0;32m    110\u001b[0m \u001b[38;5;28;01mdef\u001b[39;00m \u001b[38;5;21mto_mat\u001b[39m(\u001b[38;5;28mself\u001b[39m):\n\u001b[0;32m    111\u001b[0m     v \u001b[38;5;241m=\u001b[39m np\u001b[38;5;241m.\u001b[39marray([\u001b[38;5;28mself\u001b[39m\u001b[38;5;241m.\u001b[39mx, \u001b[38;5;28mself\u001b[39m\u001b[38;5;241m.\u001b[39my, \u001b[38;5;28mself\u001b[39m\u001b[38;5;241m.\u001b[39mz])\u001b[38;5;241m.\u001b[39mreshape(\u001b[38;5;241m3\u001b[39m,\u001b[38;5;241m1\u001b[39m)\n\u001b[0;32m    112\u001b[0m     \u001b[38;5;28;01mreturn\u001b[39;00m (\u001b[38;5;28mself\u001b[39m\u001b[38;5;241m.\u001b[39mw \u001b[38;5;241m*\u001b[39m\u001b[38;5;241m*\u001b[39m \u001b[38;5;241m2\u001b[39m \u001b[38;5;241m-\u001b[39m np\u001b[38;5;241m.\u001b[39mdot(v\u001b[38;5;241m.\u001b[39mT, v)) \u001b[38;5;241m*\u001b[39m np\u001b[38;5;241m.\u001b[39meye(\u001b[38;5;241m3\u001b[39m) \u001b[38;5;241m+\u001b[39m \\\n\u001b[1;32m--> 113\u001b[0m            \u001b[38;5;241m2\u001b[39m \u001b[38;5;241m*\u001b[39m np\u001b[38;5;241m.\u001b[39mdot(v, v\u001b[38;5;241m.\u001b[39mT) \u001b[38;5;241m+\u001b[39m \u001b[38;5;241m2\u001b[39m \u001b[38;5;241m*\u001b[39m \u001b[38;5;28mself\u001b[39m\u001b[38;5;241m.\u001b[39mw \u001b[38;5;241m*\u001b[39m \u001b[43mskew_symmetric\u001b[49m\u001b[43m(\u001b[49m\u001b[43mv\u001b[49m\u001b[43m)\u001b[49m\n",
      "File \u001b[1;32mc:\\Users\\danie\\Documents\\Documents\\CURSOS\\Self-Driving_Cars_Specialization\\State Estimation and Localization for Self-Driving Cars\\week6\\solution\\rotations.py:16\u001b[0m, in \u001b[0;36mskew_symmetric\u001b[1;34m(v)\u001b[0m\n\u001b[0;32m     14\u001b[0m \u001b[38;5;28;01mdef\u001b[39;00m \u001b[38;5;21mskew_symmetric\u001b[39m(v):\n\u001b[0;32m     15\u001b[0m \u001b[38;5;250m    \u001b[39m\u001b[38;5;124;03m\"\"\"Skew symmetric form of a 3x1 vector.\"\"\"\u001b[39;00m\n\u001b[1;32m---> 16\u001b[0m     \u001b[38;5;28;01mreturn\u001b[39;00m \u001b[43mnp\u001b[49m\u001b[38;5;241;43m.\u001b[39;49m\u001b[43marray\u001b[49m\u001b[43m(\u001b[49m\n\u001b[0;32m     17\u001b[0m \u001b[43m        \u001b[49m\u001b[43m[\u001b[49m\u001b[43m[\u001b[49m\u001b[38;5;241;43m0\u001b[39;49m\u001b[43m,\u001b[49m\u001b[43m \u001b[49m\u001b[38;5;241;43m-\u001b[39;49m\u001b[43mv\u001b[49m\u001b[43m[\u001b[49m\u001b[38;5;241;43m2\u001b[39;49m\u001b[43m]\u001b[49m\u001b[43m,\u001b[49m\u001b[43m \u001b[49m\u001b[43mv\u001b[49m\u001b[43m[\u001b[49m\u001b[38;5;241;43m1\u001b[39;49m\u001b[43m]\u001b[49m\u001b[43m]\u001b[49m\u001b[43m,\u001b[49m\n\u001b[0;32m     18\u001b[0m \u001b[43m         \u001b[49m\u001b[43m[\u001b[49m\u001b[43mv\u001b[49m\u001b[43m[\u001b[49m\u001b[38;5;241;43m2\u001b[39;49m\u001b[43m]\u001b[49m\u001b[43m,\u001b[49m\u001b[43m \u001b[49m\u001b[38;5;241;43m0\u001b[39;49m\u001b[43m,\u001b[49m\u001b[43m \u001b[49m\u001b[38;5;241;43m-\u001b[39;49m\u001b[43mv\u001b[49m\u001b[43m[\u001b[49m\u001b[38;5;241;43m0\u001b[39;49m\u001b[43m]\u001b[49m\u001b[43m]\u001b[49m\u001b[43m,\u001b[49m\n\u001b[0;32m     19\u001b[0m \u001b[43m         \u001b[49m\u001b[43m[\u001b[49m\u001b[38;5;241;43m-\u001b[39;49m\u001b[43mv\u001b[49m\u001b[43m[\u001b[49m\u001b[38;5;241;43m1\u001b[39;49m\u001b[43m]\u001b[49m\u001b[43m,\u001b[49m\u001b[43m \u001b[49m\u001b[43mv\u001b[49m\u001b[43m[\u001b[49m\u001b[38;5;241;43m0\u001b[39;49m\u001b[43m]\u001b[49m\u001b[43m,\u001b[49m\u001b[43m \u001b[49m\u001b[38;5;241;43m0\u001b[39;49m\u001b[43m]\u001b[49m\u001b[43m]\u001b[49m\u001b[43m,\u001b[49m\u001b[43m \u001b[49m\u001b[43mdtype\u001b[49m\u001b[38;5;241;43m=\u001b[39;49m\u001b[43mnp\u001b[49m\u001b[38;5;241;43m.\u001b[39;49m\u001b[43mfloat64\u001b[49m\u001b[43m)\u001b[49m\n",
      "\u001b[1;31mValueError\u001b[0m: setting an array element with a sequence. The requested array has an inhomogeneous shape after 2 dimensions. The detected shape was (3, 3) + inhomogeneous part."
     ]
    }
   ],
   "source": [
    "################################################################################################\n",
    "for k in range(1, imu_f.data.shape[0]):  # start at 1 b/c we have initial prediction from gt\n",
    "    # print(\"SETP : \", k)\n",
    "    delta_t = imu_f.t[k] - imu_f.t[k - 1]       # 两个数据之间的时间间隔\n",
    "\n",
    "    # 1. Update state with IMU inputs\n",
    "    q_cov = delta_t**2*np.diag([var_imu_f,var_imu_f,var_imu_f,var_imu_w,var_imu_w,var_imu_w])         # 输入（IMU）的协方差矩阵\n",
    "\n",
    "    Cns = Quaternion(*q_est[k - 1]).to_mat()            # 四元数转旋转矩阵\n",
    "    p_check = p_est[k - 1] + delta_t * v_est[k - 1] + (delta_t ** 2) * 0.5 * (matmul(Cns, imu_f.data[k - 1]) + g)\n",
    "    v_check = v_est[k - 1] + delta_t * (matmul(Cns, imu_f.data[k - 1]) + g)\n",
    "    q_check = Quaternion(euler=delta_t * imu_w.data[k - 1]).quat_mult_right(q_est[k - 1])\n",
    "    # 1. Update state with IMU inputs\n",
    "    ################ CORRECTION STEP #####################\n",
    "    # 1.1 Linearize the motion model and compute Jacobians\n",
    "    f_jac = np.eye(9)\n",
    "    i_1 = np.eye(3)*delta_t\n",
    "    f = imu_f.data[k-1].reshape((3,1))     # 3*1\n",
    "    # i_2 = -skew_symmetric( np.dot(C_ns,f).reshape((3,1)) )*delta_t\n",
    "    i_2 = matmul(Cns, -skew_symmetric(f)) * delta_t\n",
    "    f_jac[:3,3:6] = i_1\n",
    "    f_jac[3:6,6:] = i_2\n",
    "    m_jac = np.eye(3)\n",
    "\n",
    "    # 2. Propagate uncertainty\n",
    "    p_cov_check = f_jac@p_cov[k-1]@f_jac.T + l_jac@q_cov@l_jac.T       # 9*9\n",
    "\n",
    "    # 3. Check availability of GNSS and LIDAR measurements\n",
    "    # 如果两个观测都不可用，那么直接使用运动模型的预测\n",
    "    p_hat, v_hat, q_hat, p_cov_hat = p_check,v_check,q_check,p_cov_check\n",
    "    p_est[k], v_est[k], q_est[k], p_cov[k] = p_check,v_check,q_check,p_cov_check\n",
    "    for i in range(len(gnss.t)):\n",
    "        if(abs(gnss.t[i]-imu_f.t[k])<0.01):\n",
    "            p_hat, v_hat, q_hat, p_cov_hat = measurement_update(sensor_var=var_gnss,p_cov_check=p_cov_hat,y_k=gnss.data[i],\n",
    "                                                                p_check = p_hat,v_check = v_hat,q_check = q_hat)\n",
    "\n",
    "    for i in range(len(lidar.t)):\n",
    "        if(abs(lidar.t[i]-imu_f.t[k])<0.01):\n",
    "            p_hat, v_hat, q_hat, p_cov_hat = measurement_update(sensor_var=var_lidar, p_cov_check=p_cov_hat,y_k=lidar.data[i],\n",
    "                                                              p_check = p_hat,v_check = v_hat,q_check = q_hat)\n",
    "\n",
    "\n",
    "\n",
    "    p_est[k] = p_hat\n",
    "    v_est[k] = v_hat\n",
    "    q_est[k] = q_hat  # 4*1\n",
    "    p_cov[k] = p_cov_hat"
   ]
  },
  {
   "cell_type": "code",
   "execution_count": 29,
   "metadata": {},
   "outputs": [
    {
     "name": "stdout",
     "output_type": "stream",
     "text": [
      "\u001b[1;31mInit signature:\u001b[0m \u001b[0mQuaternion\u001b[0m\u001b[1;33m(\u001b[0m\u001b[0mw\u001b[0m\u001b[1;33m=\u001b[0m\u001b[1;36m1.0\u001b[0m\u001b[1;33m,\u001b[0m \u001b[0mx\u001b[0m\u001b[1;33m=\u001b[0m\u001b[1;36m0.0\u001b[0m\u001b[1;33m,\u001b[0m \u001b[0my\u001b[0m\u001b[1;33m=\u001b[0m\u001b[1;36m0.0\u001b[0m\u001b[1;33m,\u001b[0m \u001b[0mz\u001b[0m\u001b[1;33m=\u001b[0m\u001b[1;36m0.0\u001b[0m\u001b[1;33m,\u001b[0m \u001b[0maxis_angle\u001b[0m\u001b[1;33m=\u001b[0m\u001b[1;32mNone\u001b[0m\u001b[1;33m,\u001b[0m \u001b[0meuler\u001b[0m\u001b[1;33m=\u001b[0m\u001b[1;32mNone\u001b[0m\u001b[1;33m)\u001b[0m\u001b[1;33m\u001b[0m\u001b[1;33m\u001b[0m\u001b[0m\n",
      "\u001b[1;31mDocstring:\u001b[0m      <no docstring>\n",
      "\u001b[1;31mSource:\u001b[0m        \n",
      "\u001b[1;32mclass\u001b[0m \u001b[0mQuaternion\u001b[0m\u001b[1;33m(\u001b[0m\u001b[1;33m)\u001b[0m\u001b[1;33m:\u001b[0m\u001b[1;33m\n",
      "\u001b[0m    \u001b[1;32mdef\u001b[0m \u001b[0m__init__\u001b[0m\u001b[1;33m(\u001b[0m\u001b[0mself\u001b[0m\u001b[1;33m,\u001b[0m \u001b[0mw\u001b[0m\u001b[1;33m=\u001b[0m\u001b[1;36m1.\u001b[0m\u001b[1;33m,\u001b[0m \u001b[0mx\u001b[0m\u001b[1;33m=\u001b[0m\u001b[1;36m0.\u001b[0m\u001b[1;33m,\u001b[0m \u001b[0my\u001b[0m\u001b[1;33m=\u001b[0m\u001b[1;36m0.\u001b[0m\u001b[1;33m,\u001b[0m \u001b[0mz\u001b[0m\u001b[1;33m=\u001b[0m\u001b[1;36m0.\u001b[0m\u001b[1;33m,\u001b[0m \u001b[0maxis_angle\u001b[0m\u001b[1;33m=\u001b[0m\u001b[1;32mNone\u001b[0m\u001b[1;33m,\u001b[0m \u001b[0meuler\u001b[0m\u001b[1;33m=\u001b[0m\u001b[1;32mNone\u001b[0m\u001b[1;33m)\u001b[0m\u001b[1;33m:\u001b[0m\u001b[1;33m\n",
      "\u001b[0m        \u001b[1;34m\"\"\"\n",
      "        Allow initialization with explicit quaterion wxyz, axis-angle, or Euler XYZ (RPY) angles.\n",
      "\n",
      "        :param w: w (real) of quaternion.\n",
      "        :param x: x (i) of quaternion.\n",
      "        :param y: y (j) of quaternion.\n",
      "        :param z: z (k) of quaternion.\n",
      "        :param axis_angle: Set of three values from axis-angle representation, as list or [3,] or [3,1] np.ndarray.\n",
      "                           See C2M5L2 for details.\n",
      "        :param euler: Set of three XYZ Euler angles. \n",
      "        \"\"\"\u001b[0m\u001b[1;33m\n",
      "\u001b[0m        \u001b[1;32mif\u001b[0m \u001b[0maxis_angle\u001b[0m \u001b[1;32mis\u001b[0m \u001b[1;32mNone\u001b[0m \u001b[1;32mand\u001b[0m \u001b[0meuler\u001b[0m \u001b[1;32mis\u001b[0m \u001b[1;32mNone\u001b[0m\u001b[1;33m:\u001b[0m\u001b[1;33m\n",
      "\u001b[0m            \u001b[0mself\u001b[0m\u001b[1;33m.\u001b[0m\u001b[0mw\u001b[0m \u001b[1;33m=\u001b[0m \u001b[0mw\u001b[0m\u001b[1;33m\n",
      "\u001b[0m            \u001b[0mself\u001b[0m\u001b[1;33m.\u001b[0m\u001b[0mx\u001b[0m \u001b[1;33m=\u001b[0m \u001b[0mx\u001b[0m\u001b[1;33m\n",
      "\u001b[0m            \u001b[0mself\u001b[0m\u001b[1;33m.\u001b[0m\u001b[0my\u001b[0m \u001b[1;33m=\u001b[0m \u001b[0my\u001b[0m\u001b[1;33m\n",
      "\u001b[0m            \u001b[0mself\u001b[0m\u001b[1;33m.\u001b[0m\u001b[0mz\u001b[0m \u001b[1;33m=\u001b[0m \u001b[0mz\u001b[0m\u001b[1;33m\n",
      "\u001b[0m        \u001b[1;32melif\u001b[0m \u001b[0meuler\u001b[0m \u001b[1;32mis\u001b[0m \u001b[1;32mnot\u001b[0m \u001b[1;32mNone\u001b[0m \u001b[1;32mand\u001b[0m \u001b[0maxis_angle\u001b[0m \u001b[1;32mis\u001b[0m \u001b[1;32mnot\u001b[0m \u001b[1;32mNone\u001b[0m\u001b[1;33m:\u001b[0m\u001b[1;33m\n",
      "\u001b[0m            \u001b[1;32mraise\u001b[0m \u001b[0mAttributeError\u001b[0m\u001b[1;33m(\u001b[0m\u001b[1;34m\"Only one of axis_angle or euler can be specified.\"\u001b[0m\u001b[1;33m)\u001b[0m\u001b[1;33m\n",
      "\u001b[0m        \u001b[1;32melif\u001b[0m \u001b[0maxis_angle\u001b[0m \u001b[1;32mis\u001b[0m \u001b[1;32mnot\u001b[0m \u001b[1;32mNone\u001b[0m\u001b[1;33m:\u001b[0m\u001b[1;33m\n",
      "\u001b[0m            \u001b[1;32mif\u001b[0m \u001b[1;32mnot\u001b[0m \u001b[1;33m(\u001b[0m\u001b[0mtype\u001b[0m\u001b[1;33m(\u001b[0m\u001b[0maxis_angle\u001b[0m\u001b[1;33m)\u001b[0m \u001b[1;33m==\u001b[0m \u001b[0mlist\u001b[0m \u001b[1;32mor\u001b[0m \u001b[0mtype\u001b[0m\u001b[1;33m(\u001b[0m\u001b[0maxis_angle\u001b[0m\u001b[1;33m)\u001b[0m \u001b[1;33m==\u001b[0m \u001b[0mnp\u001b[0m\u001b[1;33m.\u001b[0m\u001b[0mndarray\u001b[0m\u001b[1;33m)\u001b[0m \u001b[1;32mor\u001b[0m \u001b[0mlen\u001b[0m\u001b[1;33m(\u001b[0m\u001b[0maxis_angle\u001b[0m\u001b[1;33m)\u001b[0m \u001b[1;33m!=\u001b[0m \u001b[1;36m3\u001b[0m\u001b[1;33m:\u001b[0m\u001b[1;33m\n",
      "\u001b[0m                \u001b[1;32mraise\u001b[0m \u001b[0mValueError\u001b[0m\u001b[1;33m(\u001b[0m\u001b[1;34m\"axis_angle must be list or np.ndarray with length 3.\"\u001b[0m\u001b[1;33m)\u001b[0m\u001b[1;33m\n",
      "\u001b[0m            \u001b[0maxis_angle\u001b[0m \u001b[1;33m=\u001b[0m \u001b[0mnp\u001b[0m\u001b[1;33m.\u001b[0m\u001b[0marray\u001b[0m\u001b[1;33m(\u001b[0m\u001b[0maxis_angle\u001b[0m\u001b[1;33m)\u001b[0m\u001b[1;33m\n",
      "\u001b[0m            \u001b[0mnorm\u001b[0m \u001b[1;33m=\u001b[0m \u001b[0mnp\u001b[0m\u001b[1;33m.\u001b[0m\u001b[0mlinalg\u001b[0m\u001b[1;33m.\u001b[0m\u001b[0mnorm\u001b[0m\u001b[1;33m(\u001b[0m\u001b[0maxis_angle\u001b[0m\u001b[1;33m)\u001b[0m\u001b[1;33m\n",
      "\u001b[0m            \u001b[0mself\u001b[0m\u001b[1;33m.\u001b[0m\u001b[0mw\u001b[0m \u001b[1;33m=\u001b[0m \u001b[0mnp\u001b[0m\u001b[1;33m.\u001b[0m\u001b[0mcos\u001b[0m\u001b[1;33m(\u001b[0m\u001b[0mnorm\u001b[0m \u001b[1;33m/\u001b[0m \u001b[1;36m2\u001b[0m\u001b[1;33m)\u001b[0m\u001b[1;33m\n",
      "\u001b[0m            \u001b[1;32mif\u001b[0m \u001b[0mnorm\u001b[0m \u001b[1;33m<\u001b[0m \u001b[1;36m1e-50\u001b[0m\u001b[1;33m:\u001b[0m  \u001b[1;31m# to avoid instabilities and nans\u001b[0m\u001b[1;33m\n",
      "\u001b[0m                \u001b[0mself\u001b[0m\u001b[1;33m.\u001b[0m\u001b[0mx\u001b[0m \u001b[1;33m=\u001b[0m \u001b[1;36m0\u001b[0m\u001b[1;33m\n",
      "\u001b[0m                \u001b[0mself\u001b[0m\u001b[1;33m.\u001b[0m\u001b[0my\u001b[0m \u001b[1;33m=\u001b[0m \u001b[1;36m0\u001b[0m\u001b[1;33m\n",
      "\u001b[0m                \u001b[0mself\u001b[0m\u001b[1;33m.\u001b[0m\u001b[0mz\u001b[0m \u001b[1;33m=\u001b[0m \u001b[1;36m0\u001b[0m\u001b[1;33m\n",
      "\u001b[0m            \u001b[1;32melse\u001b[0m\u001b[1;33m:\u001b[0m\u001b[1;33m\n",
      "\u001b[0m                \u001b[0mimag\u001b[0m \u001b[1;33m=\u001b[0m \u001b[0maxis_angle\u001b[0m \u001b[1;33m/\u001b[0m \u001b[0mnorm\u001b[0m \u001b[1;33m*\u001b[0m \u001b[0mnp\u001b[0m\u001b[1;33m.\u001b[0m\u001b[0msin\u001b[0m\u001b[1;33m(\u001b[0m\u001b[0mnorm\u001b[0m \u001b[1;33m/\u001b[0m \u001b[1;36m2\u001b[0m\u001b[1;33m)\u001b[0m\u001b[1;33m\n",
      "\u001b[0m                \u001b[0mself\u001b[0m\u001b[1;33m.\u001b[0m\u001b[0mx\u001b[0m \u001b[1;33m=\u001b[0m \u001b[0mimag\u001b[0m\u001b[1;33m[\u001b[0m\u001b[1;36m0\u001b[0m\u001b[1;33m]\u001b[0m\u001b[1;33m.\u001b[0m\u001b[0mitem\u001b[0m\u001b[1;33m(\u001b[0m\u001b[1;33m)\u001b[0m\u001b[1;33m\n",
      "\u001b[0m                \u001b[0mself\u001b[0m\u001b[1;33m.\u001b[0m\u001b[0my\u001b[0m \u001b[1;33m=\u001b[0m \u001b[0mimag\u001b[0m\u001b[1;33m[\u001b[0m\u001b[1;36m1\u001b[0m\u001b[1;33m]\u001b[0m\u001b[1;33m.\u001b[0m\u001b[0mitem\u001b[0m\u001b[1;33m(\u001b[0m\u001b[1;33m)\u001b[0m\u001b[1;33m\n",
      "\u001b[0m                \u001b[0mself\u001b[0m\u001b[1;33m.\u001b[0m\u001b[0mz\u001b[0m \u001b[1;33m=\u001b[0m \u001b[0mimag\u001b[0m\u001b[1;33m[\u001b[0m\u001b[1;36m2\u001b[0m\u001b[1;33m]\u001b[0m\u001b[1;33m.\u001b[0m\u001b[0mitem\u001b[0m\u001b[1;33m(\u001b[0m\u001b[1;33m)\u001b[0m\u001b[1;33m\n",
      "\u001b[0m        \u001b[1;32melse\u001b[0m\u001b[1;33m:\u001b[0m\u001b[1;33m\n",
      "\u001b[0m            \u001b[0mroll\u001b[0m \u001b[1;33m=\u001b[0m \u001b[0meuler\u001b[0m\u001b[1;33m[\u001b[0m\u001b[1;36m0\u001b[0m\u001b[1;33m]\u001b[0m\u001b[1;33m\n",
      "\u001b[0m            \u001b[0mpitch\u001b[0m \u001b[1;33m=\u001b[0m \u001b[0meuler\u001b[0m\u001b[1;33m[\u001b[0m\u001b[1;36m1\u001b[0m\u001b[1;33m]\u001b[0m\u001b[1;33m\n",
      "\u001b[0m            \u001b[0myaw\u001b[0m \u001b[1;33m=\u001b[0m \u001b[0meuler\u001b[0m\u001b[1;33m[\u001b[0m\u001b[1;36m2\u001b[0m\u001b[1;33m]\u001b[0m\u001b[1;33m\n",
      "\u001b[0m\u001b[1;33m\n",
      "\u001b[0m            \u001b[0mcy\u001b[0m \u001b[1;33m=\u001b[0m \u001b[0mnp\u001b[0m\u001b[1;33m.\u001b[0m\u001b[0mcos\u001b[0m\u001b[1;33m(\u001b[0m\u001b[0myaw\u001b[0m \u001b[1;33m*\u001b[0m \u001b[1;36m0.5\u001b[0m\u001b[1;33m)\u001b[0m\u001b[1;33m\n",
      "\u001b[0m            \u001b[0msy\u001b[0m \u001b[1;33m=\u001b[0m \u001b[0mnp\u001b[0m\u001b[1;33m.\u001b[0m\u001b[0msin\u001b[0m\u001b[1;33m(\u001b[0m\u001b[0myaw\u001b[0m \u001b[1;33m*\u001b[0m \u001b[1;36m0.5\u001b[0m\u001b[1;33m)\u001b[0m\u001b[1;33m\n",
      "\u001b[0m            \u001b[0mcr\u001b[0m \u001b[1;33m=\u001b[0m \u001b[0mnp\u001b[0m\u001b[1;33m.\u001b[0m\u001b[0mcos\u001b[0m\u001b[1;33m(\u001b[0m\u001b[0mroll\u001b[0m \u001b[1;33m*\u001b[0m \u001b[1;36m0.5\u001b[0m\u001b[1;33m)\u001b[0m\u001b[1;33m\n",
      "\u001b[0m            \u001b[0msr\u001b[0m \u001b[1;33m=\u001b[0m \u001b[0mnp\u001b[0m\u001b[1;33m.\u001b[0m\u001b[0msin\u001b[0m\u001b[1;33m(\u001b[0m\u001b[0mroll\u001b[0m \u001b[1;33m*\u001b[0m \u001b[1;36m0.5\u001b[0m\u001b[1;33m)\u001b[0m\u001b[1;33m\n",
      "\u001b[0m            \u001b[0mcp\u001b[0m \u001b[1;33m=\u001b[0m \u001b[0mnp\u001b[0m\u001b[1;33m.\u001b[0m\u001b[0mcos\u001b[0m\u001b[1;33m(\u001b[0m\u001b[0mpitch\u001b[0m \u001b[1;33m*\u001b[0m \u001b[1;36m0.5\u001b[0m\u001b[1;33m)\u001b[0m\u001b[1;33m\n",
      "\u001b[0m            \u001b[0msp\u001b[0m \u001b[1;33m=\u001b[0m \u001b[0mnp\u001b[0m\u001b[1;33m.\u001b[0m\u001b[0msin\u001b[0m\u001b[1;33m(\u001b[0m\u001b[0mpitch\u001b[0m \u001b[1;33m*\u001b[0m \u001b[1;36m0.5\u001b[0m\u001b[1;33m)\u001b[0m\u001b[1;33m\n",
      "\u001b[0m\u001b[1;33m\n",
      "\u001b[0m            \u001b[1;31m# Fixed frame\u001b[0m\u001b[1;33m\n",
      "\u001b[0m            \u001b[0mself\u001b[0m\u001b[1;33m.\u001b[0m\u001b[0mw\u001b[0m \u001b[1;33m=\u001b[0m \u001b[0mcr\u001b[0m \u001b[1;33m*\u001b[0m \u001b[0mcp\u001b[0m \u001b[1;33m*\u001b[0m \u001b[0mcy\u001b[0m \u001b[1;33m+\u001b[0m \u001b[0msr\u001b[0m \u001b[1;33m*\u001b[0m \u001b[0msp\u001b[0m \u001b[1;33m*\u001b[0m \u001b[0msy\u001b[0m\u001b[1;33m\n",
      "\u001b[0m            \u001b[0mself\u001b[0m\u001b[1;33m.\u001b[0m\u001b[0mx\u001b[0m \u001b[1;33m=\u001b[0m \u001b[0msr\u001b[0m \u001b[1;33m*\u001b[0m \u001b[0mcp\u001b[0m \u001b[1;33m*\u001b[0m \u001b[0mcy\u001b[0m \u001b[1;33m-\u001b[0m \u001b[0mcr\u001b[0m \u001b[1;33m*\u001b[0m \u001b[0msp\u001b[0m \u001b[1;33m*\u001b[0m \u001b[0msy\u001b[0m\u001b[1;33m\n",
      "\u001b[0m            \u001b[0mself\u001b[0m\u001b[1;33m.\u001b[0m\u001b[0my\u001b[0m \u001b[1;33m=\u001b[0m \u001b[0mcr\u001b[0m \u001b[1;33m*\u001b[0m \u001b[0msp\u001b[0m \u001b[1;33m*\u001b[0m \u001b[0mcy\u001b[0m \u001b[1;33m+\u001b[0m \u001b[0msr\u001b[0m \u001b[1;33m*\u001b[0m \u001b[0mcp\u001b[0m \u001b[1;33m*\u001b[0m \u001b[0msy\u001b[0m\u001b[1;33m\n",
      "\u001b[0m            \u001b[0mself\u001b[0m\u001b[1;33m.\u001b[0m\u001b[0mz\u001b[0m \u001b[1;33m=\u001b[0m \u001b[0mcr\u001b[0m \u001b[1;33m*\u001b[0m \u001b[0mcp\u001b[0m \u001b[1;33m*\u001b[0m \u001b[0msy\u001b[0m \u001b[1;33m-\u001b[0m \u001b[0msr\u001b[0m \u001b[1;33m*\u001b[0m \u001b[0msp\u001b[0m \u001b[1;33m*\u001b[0m \u001b[0mcy\u001b[0m\u001b[1;33m\n",
      "\u001b[0m\u001b[1;33m\n",
      "\u001b[0m            \u001b[1;31m# Rotating frame\u001b[0m\u001b[1;33m\n",
      "\u001b[0m            \u001b[1;31m# self.w = cr * cp * cy - sr * sp * sy\u001b[0m\u001b[1;33m\n",
      "\u001b[0m            \u001b[1;31m# self.x = cr * sp * sy + sr * cp * cy\u001b[0m\u001b[1;33m\n",
      "\u001b[0m            \u001b[1;31m# self.y = cr * sp * cy - sr * cp * sy\u001b[0m\u001b[1;33m\n",
      "\u001b[0m            \u001b[1;31m# self.z = cr * cp * sy + sr * sp * cy\u001b[0m\u001b[1;33m\n",
      "\u001b[0m\u001b[1;33m\n",
      "\u001b[0m    \u001b[1;32mdef\u001b[0m \u001b[0m__repr__\u001b[0m\u001b[1;33m(\u001b[0m\u001b[0mself\u001b[0m\u001b[1;33m)\u001b[0m\u001b[1;33m:\u001b[0m\u001b[1;33m\n",
      "\u001b[0m        \u001b[1;32mreturn\u001b[0m \u001b[1;34m\"Quaternion (wxyz): [%2.5f, %2.5f, %2.5f, %2.5f]\"\u001b[0m \u001b[1;33m%\u001b[0m \u001b[1;33m(\u001b[0m\u001b[0mself\u001b[0m\u001b[1;33m.\u001b[0m\u001b[0mw\u001b[0m\u001b[1;33m,\u001b[0m \u001b[0mself\u001b[0m\u001b[1;33m.\u001b[0m\u001b[0mx\u001b[0m\u001b[1;33m,\u001b[0m \u001b[0mself\u001b[0m\u001b[1;33m.\u001b[0m\u001b[0my\u001b[0m\u001b[1;33m,\u001b[0m \u001b[0mself\u001b[0m\u001b[1;33m.\u001b[0m\u001b[0mz\u001b[0m\u001b[1;33m)\u001b[0m\u001b[1;33m\n",
      "\u001b[0m\u001b[1;33m\n",
      "\u001b[0m    \u001b[1;32mdef\u001b[0m \u001b[0mto_axis_angle\u001b[0m\u001b[1;33m(\u001b[0m\u001b[0mself\u001b[0m\u001b[1;33m)\u001b[0m\u001b[1;33m:\u001b[0m\u001b[1;33m\n",
      "\u001b[0m        \u001b[0mt\u001b[0m \u001b[1;33m=\u001b[0m \u001b[1;36m2\u001b[0m\u001b[1;33m*\u001b[0m\u001b[0mnp\u001b[0m\u001b[1;33m.\u001b[0m\u001b[0marccos\u001b[0m\u001b[1;33m(\u001b[0m\u001b[0mself\u001b[0m\u001b[1;33m.\u001b[0m\u001b[0mw\u001b[0m\u001b[1;33m)\u001b[0m\u001b[1;33m\n",
      "\u001b[0m        \u001b[1;32mreturn\u001b[0m \u001b[0mnp\u001b[0m\u001b[1;33m.\u001b[0m\u001b[0marray\u001b[0m\u001b[1;33m(\u001b[0m\u001b[0mt\u001b[0m\u001b[1;33m*\u001b[0m\u001b[0mnp\u001b[0m\u001b[1;33m.\u001b[0m\u001b[0marray\u001b[0m\u001b[1;33m(\u001b[0m\u001b[1;33m[\u001b[0m\u001b[0mself\u001b[0m\u001b[1;33m.\u001b[0m\u001b[0mx\u001b[0m\u001b[1;33m,\u001b[0m \u001b[0mself\u001b[0m\u001b[1;33m.\u001b[0m\u001b[0my\u001b[0m\u001b[1;33m,\u001b[0m \u001b[0mself\u001b[0m\u001b[1;33m.\u001b[0m\u001b[0mz\u001b[0m\u001b[1;33m]\u001b[0m\u001b[1;33m)\u001b[0m\u001b[1;33m/\u001b[0m\u001b[0mnp\u001b[0m\u001b[1;33m.\u001b[0m\u001b[0msin\u001b[0m\u001b[1;33m(\u001b[0m\u001b[0mt\u001b[0m\u001b[1;33m/\u001b[0m\u001b[1;36m2\u001b[0m\u001b[1;33m)\u001b[0m\u001b[1;33m)\u001b[0m\u001b[1;33m\n",
      "\u001b[0m\u001b[1;33m\n",
      "\u001b[0m    \u001b[1;32mdef\u001b[0m \u001b[0mto_mat\u001b[0m\u001b[1;33m(\u001b[0m\u001b[0mself\u001b[0m\u001b[1;33m)\u001b[0m\u001b[1;33m:\u001b[0m\u001b[1;33m\n",
      "\u001b[0m        \u001b[0mv\u001b[0m \u001b[1;33m=\u001b[0m \u001b[0mnp\u001b[0m\u001b[1;33m.\u001b[0m\u001b[0marray\u001b[0m\u001b[1;33m(\u001b[0m\u001b[1;33m[\u001b[0m\u001b[0mself\u001b[0m\u001b[1;33m.\u001b[0m\u001b[0mx\u001b[0m\u001b[1;33m,\u001b[0m \u001b[0mself\u001b[0m\u001b[1;33m.\u001b[0m\u001b[0my\u001b[0m\u001b[1;33m,\u001b[0m \u001b[0mself\u001b[0m\u001b[1;33m.\u001b[0m\u001b[0mz\u001b[0m\u001b[1;33m]\u001b[0m\u001b[1;33m)\u001b[0m\u001b[1;33m.\u001b[0m\u001b[0mreshape\u001b[0m\u001b[1;33m(\u001b[0m\u001b[1;36m3\u001b[0m\u001b[1;33m,\u001b[0m\u001b[1;36m1\u001b[0m\u001b[1;33m)\u001b[0m\u001b[1;33m\n",
      "\u001b[0m        \u001b[1;32mreturn\u001b[0m \u001b[1;33m(\u001b[0m\u001b[0mself\u001b[0m\u001b[1;33m.\u001b[0m\u001b[0mw\u001b[0m \u001b[1;33m**\u001b[0m \u001b[1;36m2\u001b[0m \u001b[1;33m-\u001b[0m \u001b[0mnp\u001b[0m\u001b[1;33m.\u001b[0m\u001b[0mdot\u001b[0m\u001b[1;33m(\u001b[0m\u001b[0mv\u001b[0m\u001b[1;33m.\u001b[0m\u001b[0mT\u001b[0m\u001b[1;33m,\u001b[0m \u001b[0mv\u001b[0m\u001b[1;33m)\u001b[0m\u001b[1;33m)\u001b[0m \u001b[1;33m*\u001b[0m \u001b[0mnp\u001b[0m\u001b[1;33m.\u001b[0m\u001b[0meye\u001b[0m\u001b[1;33m(\u001b[0m\u001b[1;36m3\u001b[0m\u001b[1;33m)\u001b[0m \u001b[1;33m+\u001b[0m \\\n",
      "               \u001b[1;36m2\u001b[0m \u001b[1;33m*\u001b[0m \u001b[0mnp\u001b[0m\u001b[1;33m.\u001b[0m\u001b[0mdot\u001b[0m\u001b[1;33m(\u001b[0m\u001b[0mv\u001b[0m\u001b[1;33m,\u001b[0m \u001b[0mv\u001b[0m\u001b[1;33m.\u001b[0m\u001b[0mT\u001b[0m\u001b[1;33m)\u001b[0m \u001b[1;33m+\u001b[0m \u001b[1;36m2\u001b[0m \u001b[1;33m*\u001b[0m \u001b[0mself\u001b[0m\u001b[1;33m.\u001b[0m\u001b[0mw\u001b[0m \u001b[1;33m*\u001b[0m \u001b[0mskew_symmetric\u001b[0m\u001b[1;33m(\u001b[0m\u001b[0mv\u001b[0m\u001b[1;33m)\u001b[0m\u001b[1;33m\n",
      "\u001b[0m\u001b[1;33m\n",
      "\u001b[0m    \u001b[1;32mdef\u001b[0m \u001b[0mto_euler\u001b[0m\u001b[1;33m(\u001b[0m\u001b[0mself\u001b[0m\u001b[1;33m)\u001b[0m\u001b[1;33m:\u001b[0m\u001b[1;33m\n",
      "\u001b[0m        \u001b[1;34m\"\"\"Return as xyz (roll pitch yaw) Euler angles.\"\"\"\u001b[0m\u001b[1;33m\n",
      "\u001b[0m        \u001b[0mroll\u001b[0m \u001b[1;33m=\u001b[0m \u001b[0mnp\u001b[0m\u001b[1;33m.\u001b[0m\u001b[0marctan2\u001b[0m\u001b[1;33m(\u001b[0m\u001b[1;36m2\u001b[0m \u001b[1;33m*\u001b[0m \u001b[1;33m(\u001b[0m\u001b[0mself\u001b[0m\u001b[1;33m.\u001b[0m\u001b[0mw\u001b[0m \u001b[1;33m*\u001b[0m \u001b[0mself\u001b[0m\u001b[1;33m.\u001b[0m\u001b[0mx\u001b[0m \u001b[1;33m+\u001b[0m \u001b[0mself\u001b[0m\u001b[1;33m.\u001b[0m\u001b[0my\u001b[0m \u001b[1;33m*\u001b[0m \u001b[0mself\u001b[0m\u001b[1;33m.\u001b[0m\u001b[0mz\u001b[0m\u001b[1;33m)\u001b[0m\u001b[1;33m,\u001b[0m \u001b[1;36m1\u001b[0m \u001b[1;33m-\u001b[0m \u001b[1;36m2\u001b[0m \u001b[1;33m*\u001b[0m \u001b[1;33m(\u001b[0m\u001b[0mself\u001b[0m\u001b[1;33m.\u001b[0m\u001b[0mx\u001b[0m\u001b[1;33m**\u001b[0m\u001b[1;36m2\u001b[0m \u001b[1;33m+\u001b[0m \u001b[0mself\u001b[0m\u001b[1;33m.\u001b[0m\u001b[0my\u001b[0m\u001b[1;33m**\u001b[0m\u001b[1;36m2\u001b[0m\u001b[1;33m)\u001b[0m\u001b[1;33m)\u001b[0m\u001b[1;33m\n",
      "\u001b[0m        \u001b[0mpitch\u001b[0m \u001b[1;33m=\u001b[0m \u001b[0mnp\u001b[0m\u001b[1;33m.\u001b[0m\u001b[0marcsin\u001b[0m\u001b[1;33m(\u001b[0m\u001b[1;36m2\u001b[0m \u001b[1;33m*\u001b[0m \u001b[1;33m(\u001b[0m\u001b[0mself\u001b[0m\u001b[1;33m.\u001b[0m\u001b[0mw\u001b[0m \u001b[1;33m*\u001b[0m \u001b[0mself\u001b[0m\u001b[1;33m.\u001b[0m\u001b[0my\u001b[0m \u001b[1;33m-\u001b[0m \u001b[0mself\u001b[0m\u001b[1;33m.\u001b[0m\u001b[0mz\u001b[0m \u001b[1;33m*\u001b[0m \u001b[0mself\u001b[0m\u001b[1;33m.\u001b[0m\u001b[0mx\u001b[0m\u001b[1;33m)\u001b[0m\u001b[1;33m)\u001b[0m\u001b[1;33m\n",
      "\u001b[0m        \u001b[0myaw\u001b[0m \u001b[1;33m=\u001b[0m \u001b[0mnp\u001b[0m\u001b[1;33m.\u001b[0m\u001b[0marctan2\u001b[0m\u001b[1;33m(\u001b[0m\u001b[1;36m2\u001b[0m \u001b[1;33m*\u001b[0m \u001b[1;33m(\u001b[0m\u001b[0mself\u001b[0m\u001b[1;33m.\u001b[0m\u001b[0mw\u001b[0m \u001b[1;33m*\u001b[0m \u001b[0mself\u001b[0m\u001b[1;33m.\u001b[0m\u001b[0mz\u001b[0m \u001b[1;33m+\u001b[0m \u001b[0mself\u001b[0m\u001b[1;33m.\u001b[0m\u001b[0mx\u001b[0m \u001b[1;33m*\u001b[0m \u001b[0mself\u001b[0m\u001b[1;33m.\u001b[0m\u001b[0my\u001b[0m\u001b[1;33m)\u001b[0m\u001b[1;33m,\u001b[0m \u001b[1;36m1\u001b[0m \u001b[1;33m-\u001b[0m \u001b[1;36m2\u001b[0m \u001b[1;33m*\u001b[0m \u001b[1;33m(\u001b[0m\u001b[0mself\u001b[0m\u001b[1;33m.\u001b[0m\u001b[0my\u001b[0m\u001b[1;33m**\u001b[0m\u001b[1;36m2\u001b[0m \u001b[1;33m+\u001b[0m \u001b[0mself\u001b[0m\u001b[1;33m.\u001b[0m\u001b[0mz\u001b[0m\u001b[1;33m**\u001b[0m\u001b[1;36m2\u001b[0m\u001b[1;33m)\u001b[0m\u001b[1;33m)\u001b[0m\u001b[1;33m\n",
      "\u001b[0m        \u001b[1;32mreturn\u001b[0m \u001b[0mnp\u001b[0m\u001b[1;33m.\u001b[0m\u001b[0marray\u001b[0m\u001b[1;33m(\u001b[0m\u001b[1;33m[\u001b[0m\u001b[0mroll\u001b[0m\u001b[1;33m,\u001b[0m \u001b[0mpitch\u001b[0m\u001b[1;33m,\u001b[0m \u001b[0myaw\u001b[0m\u001b[1;33m]\u001b[0m\u001b[1;33m)\u001b[0m\u001b[1;33m\n",
      "\u001b[0m\u001b[1;33m\n",
      "\u001b[0m    \u001b[1;32mdef\u001b[0m \u001b[0mto_numpy\u001b[0m\u001b[1;33m(\u001b[0m\u001b[0mself\u001b[0m\u001b[1;33m)\u001b[0m\u001b[1;33m:\u001b[0m\u001b[1;33m\n",
      "\u001b[0m        \u001b[1;34m\"\"\"Return numpy wxyz representation.\"\"\"\u001b[0m\u001b[1;33m\n",
      "\u001b[0m        \u001b[1;32mreturn\u001b[0m \u001b[0mnp\u001b[0m\u001b[1;33m.\u001b[0m\u001b[0marray\u001b[0m\u001b[1;33m(\u001b[0m\u001b[1;33m[\u001b[0m\u001b[0mself\u001b[0m\u001b[1;33m.\u001b[0m\u001b[0mw\u001b[0m\u001b[1;33m,\u001b[0m \u001b[0mself\u001b[0m\u001b[1;33m.\u001b[0m\u001b[0mx\u001b[0m\u001b[1;33m,\u001b[0m \u001b[0mself\u001b[0m\u001b[1;33m.\u001b[0m\u001b[0my\u001b[0m\u001b[1;33m,\u001b[0m \u001b[0mself\u001b[0m\u001b[1;33m.\u001b[0m\u001b[0mz\u001b[0m\u001b[1;33m]\u001b[0m\u001b[1;33m)\u001b[0m\u001b[1;33m\n",
      "\u001b[0m\u001b[1;33m\n",
      "\u001b[0m    \u001b[1;32mdef\u001b[0m \u001b[0mnormalize\u001b[0m\u001b[1;33m(\u001b[0m\u001b[0mself\u001b[0m\u001b[1;33m)\u001b[0m\u001b[1;33m:\u001b[0m\u001b[1;33m\n",
      "\u001b[0m        \u001b[1;34m\"\"\"Return a (unit) normalized version of this quaternion.\"\"\"\u001b[0m\u001b[1;33m\n",
      "\u001b[0m        \u001b[0mnorm\u001b[0m \u001b[1;33m=\u001b[0m \u001b[0mnp\u001b[0m\u001b[1;33m.\u001b[0m\u001b[0mlinalg\u001b[0m\u001b[1;33m.\u001b[0m\u001b[0mnorm\u001b[0m\u001b[1;33m(\u001b[0m\u001b[1;33m[\u001b[0m\u001b[0mself\u001b[0m\u001b[1;33m.\u001b[0m\u001b[0mw\u001b[0m\u001b[1;33m,\u001b[0m \u001b[0mself\u001b[0m\u001b[1;33m.\u001b[0m\u001b[0mx\u001b[0m\u001b[1;33m,\u001b[0m \u001b[0mself\u001b[0m\u001b[1;33m.\u001b[0m\u001b[0my\u001b[0m\u001b[1;33m,\u001b[0m \u001b[0mself\u001b[0m\u001b[1;33m.\u001b[0m\u001b[0mz\u001b[0m\u001b[1;33m]\u001b[0m\u001b[1;33m)\u001b[0m\u001b[1;33m\n",
      "\u001b[0m        \u001b[1;32mreturn\u001b[0m \u001b[0mQuaternion\u001b[0m\u001b[1;33m(\u001b[0m\u001b[0mself\u001b[0m\u001b[1;33m.\u001b[0m\u001b[0mw\u001b[0m \u001b[1;33m/\u001b[0m \u001b[0mnorm\u001b[0m\u001b[1;33m,\u001b[0m \u001b[0mself\u001b[0m\u001b[1;33m.\u001b[0m\u001b[0mx\u001b[0m \u001b[1;33m/\u001b[0m \u001b[0mnorm\u001b[0m\u001b[1;33m,\u001b[0m \u001b[0mself\u001b[0m\u001b[1;33m.\u001b[0m\u001b[0my\u001b[0m \u001b[1;33m/\u001b[0m \u001b[0mnorm\u001b[0m\u001b[1;33m,\u001b[0m \u001b[0mself\u001b[0m\u001b[1;33m.\u001b[0m\u001b[0mz\u001b[0m \u001b[1;33m/\u001b[0m \u001b[0mnorm\u001b[0m\u001b[1;33m)\u001b[0m\u001b[1;33m\n",
      "\u001b[0m\u001b[1;33m\n",
      "\u001b[0m    \u001b[1;32mdef\u001b[0m \u001b[0mquat_mult_right\u001b[0m\u001b[1;33m(\u001b[0m\u001b[0mself\u001b[0m\u001b[1;33m,\u001b[0m \u001b[0mq\u001b[0m\u001b[1;33m,\u001b[0m \u001b[0mout\u001b[0m\u001b[1;33m=\u001b[0m\u001b[1;34m'np'\u001b[0m\u001b[1;33m)\u001b[0m\u001b[1;33m:\u001b[0m\u001b[1;33m\n",
      "\u001b[0m        \u001b[1;34m\"\"\"\n",
      "        Quaternion multiplication operation - in this case, perform multiplication\n",
      "        on the right, that is, q*self.\n",
      "\n",
      "        :param q: Either a Quaternion or 4x1 ndarray.\n",
      "        :param out: Output type, either np or Quaternion.\n",
      "        :return: Returns quaternion of desired type.\n",
      "        \"\"\"\u001b[0m\u001b[1;33m\n",
      "\u001b[0m        \u001b[0mv\u001b[0m \u001b[1;33m=\u001b[0m \u001b[0mnp\u001b[0m\u001b[1;33m.\u001b[0m\u001b[0marray\u001b[0m\u001b[1;33m(\u001b[0m\u001b[1;33m[\u001b[0m\u001b[0mself\u001b[0m\u001b[1;33m.\u001b[0m\u001b[0mx\u001b[0m\u001b[1;33m,\u001b[0m \u001b[0mself\u001b[0m\u001b[1;33m.\u001b[0m\u001b[0my\u001b[0m\u001b[1;33m,\u001b[0m \u001b[0mself\u001b[0m\u001b[1;33m.\u001b[0m\u001b[0mz\u001b[0m\u001b[1;33m]\u001b[0m\u001b[1;33m)\u001b[0m\u001b[1;33m.\u001b[0m\u001b[0mreshape\u001b[0m\u001b[1;33m(\u001b[0m\u001b[1;36m3\u001b[0m\u001b[1;33m,\u001b[0m \u001b[1;36m1\u001b[0m\u001b[1;33m)\u001b[0m\u001b[1;33m\n",
      "\u001b[0m        \u001b[0msum_term\u001b[0m \u001b[1;33m=\u001b[0m \u001b[0mnp\u001b[0m\u001b[1;33m.\u001b[0m\u001b[0mzeros\u001b[0m\u001b[1;33m(\u001b[0m\u001b[1;33m[\u001b[0m\u001b[1;36m4\u001b[0m\u001b[1;33m,\u001b[0m\u001b[1;36m4\u001b[0m\u001b[1;33m]\u001b[0m\u001b[1;33m)\u001b[0m\u001b[1;33m\n",
      "\u001b[0m        \u001b[0msum_term\u001b[0m\u001b[1;33m[\u001b[0m\u001b[1;36m0\u001b[0m\u001b[1;33m,\u001b[0m\u001b[1;36m1\u001b[0m\u001b[1;33m:\u001b[0m\u001b[1;33m]\u001b[0m \u001b[1;33m=\u001b[0m \u001b[1;33m-\u001b[0m\u001b[0mv\u001b[0m\u001b[1;33m[\u001b[0m\u001b[1;33m:\u001b[0m\u001b[1;33m,\u001b[0m\u001b[1;36m0\u001b[0m\u001b[1;33m]\u001b[0m\u001b[1;33m\n",
      "\u001b[0m        \u001b[0msum_term\u001b[0m\u001b[1;33m[\u001b[0m\u001b[1;36m1\u001b[0m\u001b[1;33m:\u001b[0m\u001b[1;33m,\u001b[0m \u001b[1;36m0\u001b[0m\u001b[1;33m]\u001b[0m \u001b[1;33m=\u001b[0m \u001b[0mv\u001b[0m\u001b[1;33m[\u001b[0m\u001b[1;33m:\u001b[0m\u001b[1;33m,\u001b[0m\u001b[1;36m0\u001b[0m\u001b[1;33m]\u001b[0m\u001b[1;33m\n",
      "\u001b[0m        \u001b[0msum_term\u001b[0m\u001b[1;33m[\u001b[0m\u001b[1;36m1\u001b[0m\u001b[1;33m:\u001b[0m\u001b[1;33m,\u001b[0m \u001b[1;36m1\u001b[0m\u001b[1;33m:\u001b[0m\u001b[1;33m]\u001b[0m \u001b[1;33m=\u001b[0m \u001b[1;33m-\u001b[0m\u001b[0mskew_symmetric\u001b[0m\u001b[1;33m(\u001b[0m\u001b[0mv\u001b[0m\u001b[1;33m)\u001b[0m\u001b[1;33m\n",
      "\u001b[0m        \u001b[0msigma\u001b[0m \u001b[1;33m=\u001b[0m \u001b[0mself\u001b[0m\u001b[1;33m.\u001b[0m\u001b[0mw\u001b[0m \u001b[1;33m*\u001b[0m \u001b[0mnp\u001b[0m\u001b[1;33m.\u001b[0m\u001b[0meye\u001b[0m\u001b[1;33m(\u001b[0m\u001b[1;36m4\u001b[0m\u001b[1;33m)\u001b[0m \u001b[1;33m+\u001b[0m \u001b[0msum_term\u001b[0m\u001b[1;33m\n",
      "\u001b[0m\u001b[1;33m\n",
      "\u001b[0m        \u001b[1;32mif\u001b[0m \u001b[0mtype\u001b[0m\u001b[1;33m(\u001b[0m\u001b[0mq\u001b[0m\u001b[1;33m)\u001b[0m\u001b[1;33m.\u001b[0m\u001b[0m__name__\u001b[0m \u001b[1;33m==\u001b[0m \u001b[1;34m\"Quaternion\"\u001b[0m\u001b[1;33m:\u001b[0m\u001b[1;33m\n",
      "\u001b[0m            \u001b[0mquat_np\u001b[0m \u001b[1;33m=\u001b[0m \u001b[0mnp\u001b[0m\u001b[1;33m.\u001b[0m\u001b[0mdot\u001b[0m\u001b[1;33m(\u001b[0m\u001b[0msigma\u001b[0m\u001b[1;33m,\u001b[0m \u001b[0mq\u001b[0m\u001b[1;33m.\u001b[0m\u001b[0mto_numpy\u001b[0m\u001b[1;33m(\u001b[0m\u001b[1;33m)\u001b[0m\u001b[1;33m)\u001b[0m\u001b[1;33m\n",
      "\u001b[0m        \u001b[1;32melse\u001b[0m\u001b[1;33m:\u001b[0m\u001b[1;33m\n",
      "\u001b[0m            \u001b[0mquat_np\u001b[0m \u001b[1;33m=\u001b[0m \u001b[0mnp\u001b[0m\u001b[1;33m.\u001b[0m\u001b[0mdot\u001b[0m\u001b[1;33m(\u001b[0m\u001b[0msigma\u001b[0m\u001b[1;33m,\u001b[0m \u001b[0mq\u001b[0m\u001b[1;33m)\u001b[0m\u001b[1;33m\n",
      "\u001b[0m\u001b[1;33m\n",
      "\u001b[0m        \u001b[1;32mif\u001b[0m \u001b[0mout\u001b[0m \u001b[1;33m==\u001b[0m \u001b[1;34m'np'\u001b[0m\u001b[1;33m:\u001b[0m\u001b[1;33m\n",
      "\u001b[0m            \u001b[1;32mreturn\u001b[0m \u001b[0mquat_np\u001b[0m\u001b[1;33m\n",
      "\u001b[0m        \u001b[1;32melif\u001b[0m \u001b[0mout\u001b[0m \u001b[1;33m==\u001b[0m \u001b[1;34m'Quaternion'\u001b[0m\u001b[1;33m:\u001b[0m\u001b[1;33m\n",
      "\u001b[0m            \u001b[0mquat_obj\u001b[0m \u001b[1;33m=\u001b[0m \u001b[0mQuaternion\u001b[0m\u001b[1;33m(\u001b[0m\u001b[0mquat_np\u001b[0m\u001b[1;33m[\u001b[0m\u001b[1;36m0\u001b[0m\u001b[1;33m]\u001b[0m\u001b[1;33m,\u001b[0m \u001b[0mquat_np\u001b[0m\u001b[1;33m[\u001b[0m\u001b[1;36m1\u001b[0m\u001b[1;33m]\u001b[0m\u001b[1;33m,\u001b[0m \u001b[0mquat_np\u001b[0m\u001b[1;33m[\u001b[0m\u001b[1;36m2\u001b[0m\u001b[1;33m]\u001b[0m\u001b[1;33m,\u001b[0m \u001b[0mquat_np\u001b[0m\u001b[1;33m[\u001b[0m\u001b[1;36m3\u001b[0m\u001b[1;33m]\u001b[0m\u001b[1;33m)\u001b[0m\u001b[1;33m\n",
      "\u001b[0m            \u001b[1;32mreturn\u001b[0m \u001b[0mquat_obj\u001b[0m\u001b[1;33m\n",
      "\u001b[0m\u001b[1;33m\n",
      "\u001b[0m    \u001b[1;32mdef\u001b[0m \u001b[0mquat_mult_left\u001b[0m\u001b[1;33m(\u001b[0m\u001b[0mself\u001b[0m\u001b[1;33m,\u001b[0m \u001b[0mq\u001b[0m\u001b[1;33m,\u001b[0m \u001b[0mout\u001b[0m\u001b[1;33m=\u001b[0m\u001b[1;34m'np'\u001b[0m\u001b[1;33m)\u001b[0m\u001b[1;33m:\u001b[0m\u001b[1;33m\n",
      "\u001b[0m        \u001b[1;34m\"\"\"\n",
      "        Quaternion multiplication operation - in this case, perform multiplication\n",
      "        on the left, that is, self*q.\n",
      "\n",
      "        :param q: Either a Quaternion or 4x1 ndarray.\n",
      "        :param out: Output type, either np or Quaternion.\n",
      "        :return: Returns quaternion of desired type.\n",
      "        \"\"\"\u001b[0m\u001b[1;33m\n",
      "\u001b[0m        \u001b[0mv\u001b[0m \u001b[1;33m=\u001b[0m \u001b[0mnp\u001b[0m\u001b[1;33m.\u001b[0m\u001b[0marray\u001b[0m\u001b[1;33m(\u001b[0m\u001b[1;33m[\u001b[0m\u001b[0mself\u001b[0m\u001b[1;33m.\u001b[0m\u001b[0mx\u001b[0m\u001b[1;33m,\u001b[0m \u001b[0mself\u001b[0m\u001b[1;33m.\u001b[0m\u001b[0my\u001b[0m\u001b[1;33m,\u001b[0m \u001b[0mself\u001b[0m\u001b[1;33m.\u001b[0m\u001b[0mz\u001b[0m\u001b[1;33m]\u001b[0m\u001b[1;33m)\u001b[0m\u001b[1;33m.\u001b[0m\u001b[0mreshape\u001b[0m\u001b[1;33m(\u001b[0m\u001b[1;36m3\u001b[0m\u001b[1;33m,\u001b[0m \u001b[1;36m1\u001b[0m\u001b[1;33m)\u001b[0m\u001b[1;33m\n",
      "\u001b[0m        \u001b[0msum_term\u001b[0m \u001b[1;33m=\u001b[0m \u001b[0mnp\u001b[0m\u001b[1;33m.\u001b[0m\u001b[0mzeros\u001b[0m\u001b[1;33m(\u001b[0m\u001b[1;33m[\u001b[0m\u001b[1;36m4\u001b[0m\u001b[1;33m,\u001b[0m\u001b[1;36m4\u001b[0m\u001b[1;33m]\u001b[0m\u001b[1;33m)\u001b[0m\u001b[1;33m\n",
      "\u001b[0m        \u001b[0msum_term\u001b[0m\u001b[1;33m[\u001b[0m\u001b[1;36m0\u001b[0m\u001b[1;33m,\u001b[0m\u001b[1;36m1\u001b[0m\u001b[1;33m:\u001b[0m\u001b[1;33m]\u001b[0m \u001b[1;33m=\u001b[0m \u001b[1;33m-\u001b[0m\u001b[0mv\u001b[0m\u001b[1;33m[\u001b[0m\u001b[1;33m:\u001b[0m\u001b[1;33m,\u001b[0m\u001b[1;36m0\u001b[0m\u001b[1;33m]\u001b[0m\u001b[1;33m\n",
      "\u001b[0m        \u001b[0msum_term\u001b[0m\u001b[1;33m[\u001b[0m\u001b[1;36m1\u001b[0m\u001b[1;33m:\u001b[0m\u001b[1;33m,\u001b[0m \u001b[1;36m0\u001b[0m\u001b[1;33m]\u001b[0m \u001b[1;33m=\u001b[0m \u001b[0mv\u001b[0m\u001b[1;33m[\u001b[0m\u001b[1;33m:\u001b[0m\u001b[1;33m,\u001b[0m\u001b[1;36m0\u001b[0m\u001b[1;33m]\u001b[0m\u001b[1;33m\n",
      "\u001b[0m        \u001b[0msum_term\u001b[0m\u001b[1;33m[\u001b[0m\u001b[1;36m1\u001b[0m\u001b[1;33m:\u001b[0m\u001b[1;33m,\u001b[0m \u001b[1;36m1\u001b[0m\u001b[1;33m:\u001b[0m\u001b[1;33m]\u001b[0m \u001b[1;33m=\u001b[0m \u001b[0mskew_symmetric\u001b[0m\u001b[1;33m(\u001b[0m\u001b[0mv\u001b[0m\u001b[1;33m)\u001b[0m\u001b[1;33m\n",
      "\u001b[0m        \u001b[0msigma\u001b[0m \u001b[1;33m=\u001b[0m \u001b[0mself\u001b[0m\u001b[1;33m.\u001b[0m\u001b[0mw\u001b[0m \u001b[1;33m*\u001b[0m \u001b[0mnp\u001b[0m\u001b[1;33m.\u001b[0m\u001b[0meye\u001b[0m\u001b[1;33m(\u001b[0m\u001b[1;36m4\u001b[0m\u001b[1;33m)\u001b[0m \u001b[1;33m+\u001b[0m \u001b[0msum_term\u001b[0m\u001b[1;33m\n",
      "\u001b[0m\u001b[1;33m\n",
      "\u001b[0m        \u001b[1;32mif\u001b[0m \u001b[0mtype\u001b[0m\u001b[1;33m(\u001b[0m\u001b[0mq\u001b[0m\u001b[1;33m)\u001b[0m\u001b[1;33m.\u001b[0m\u001b[0m__name__\u001b[0m \u001b[1;33m==\u001b[0m \u001b[1;34m\"Quaternion\"\u001b[0m\u001b[1;33m:\u001b[0m\u001b[1;33m\n",
      "\u001b[0m            \u001b[0mquat_np\u001b[0m \u001b[1;33m=\u001b[0m \u001b[0mnp\u001b[0m\u001b[1;33m.\u001b[0m\u001b[0mdot\u001b[0m\u001b[1;33m(\u001b[0m\u001b[0msigma\u001b[0m\u001b[1;33m,\u001b[0m \u001b[0mq\u001b[0m\u001b[1;33m.\u001b[0m\u001b[0mto_numpy\u001b[0m\u001b[1;33m(\u001b[0m\u001b[1;33m)\u001b[0m\u001b[1;33m)\u001b[0m\u001b[1;33m\n",
      "\u001b[0m        \u001b[1;32melse\u001b[0m\u001b[1;33m:\u001b[0m\u001b[1;33m\n",
      "\u001b[0m            \u001b[0mquat_np\u001b[0m \u001b[1;33m=\u001b[0m \u001b[0mnp\u001b[0m\u001b[1;33m.\u001b[0m\u001b[0mdot\u001b[0m\u001b[1;33m(\u001b[0m\u001b[0msigma\u001b[0m\u001b[1;33m,\u001b[0m \u001b[0mq\u001b[0m\u001b[1;33m)\u001b[0m\u001b[1;33m\n",
      "\u001b[0m\u001b[1;33m\n",
      "\u001b[0m        \u001b[1;32mif\u001b[0m \u001b[0mout\u001b[0m \u001b[1;33m==\u001b[0m \u001b[1;34m'np'\u001b[0m\u001b[1;33m:\u001b[0m\u001b[1;33m\n",
      "\u001b[0m            \u001b[1;32mreturn\u001b[0m \u001b[0mquat_np\u001b[0m\u001b[1;33m\n",
      "\u001b[0m        \u001b[1;32melif\u001b[0m \u001b[0mout\u001b[0m \u001b[1;33m==\u001b[0m \u001b[1;34m'Quaternion'\u001b[0m\u001b[1;33m:\u001b[0m\u001b[1;33m\n",
      "\u001b[0m            \u001b[0mquat_obj\u001b[0m \u001b[1;33m=\u001b[0m \u001b[0mQuaternion\u001b[0m\u001b[1;33m(\u001b[0m\u001b[0mquat_np\u001b[0m\u001b[1;33m[\u001b[0m\u001b[1;36m0\u001b[0m\u001b[1;33m]\u001b[0m\u001b[1;33m,\u001b[0m \u001b[0mquat_np\u001b[0m\u001b[1;33m[\u001b[0m\u001b[1;36m1\u001b[0m\u001b[1;33m]\u001b[0m\u001b[1;33m,\u001b[0m \u001b[0mquat_np\u001b[0m\u001b[1;33m[\u001b[0m\u001b[1;36m2\u001b[0m\u001b[1;33m]\u001b[0m\u001b[1;33m,\u001b[0m \u001b[0mquat_np\u001b[0m\u001b[1;33m[\u001b[0m\u001b[1;36m3\u001b[0m\u001b[1;33m]\u001b[0m\u001b[1;33m)\u001b[0m\u001b[1;33m\n",
      "\u001b[0m            \u001b[1;32mreturn\u001b[0m \u001b[0mquat_obj\u001b[0m\u001b[1;33m\u001b[0m\u001b[1;33m\u001b[0m\u001b[0m\n",
      "\u001b[1;31mFile:\u001b[0m           c:\\users\\danie\\documents\\documents\\cursos\\self-driving_cars_specialization\\state estimation and localization for self-driving cars\\week6\\solution\\rotations.py\n",
      "\u001b[1;31mType:\u001b[0m           type\n",
      "\u001b[1;31mSubclasses:\u001b[0m     "
     ]
    }
   ],
   "source": [
    "??Quaternion"
   ]
  },
  {
   "cell_type": "code",
   "execution_count": 36,
   "metadata": {},
   "outputs": [
    {
     "ename": "ValueError",
     "evalue": "setting an array element with a sequence. The requested array has an inhomogeneous shape after 2 dimensions. The detected shape was (3, 3) + inhomogeneous part.",
     "output_type": "error",
     "traceback": [
      "\u001b[1;31m---------------------------------------------------------------------------\u001b[0m",
      "\u001b[1;31mValueError\u001b[0m                                Traceback (most recent call last)",
      "Cell \u001b[1;32mIn[36], line 2\u001b[0m\n\u001b[0;32m      1\u001b[0m q \u001b[38;5;241m=\u001b[39m Quaternion(\u001b[38;5;241m*\u001b[39mq_est[\u001b[38;5;241m0\u001b[39m])\n\u001b[1;32m----> 2\u001b[0m q_matrix \u001b[38;5;241m=\u001b[39m np\u001b[38;5;241m.\u001b[39marray(\u001b[43mq\u001b[49m\u001b[38;5;241;43m.\u001b[39;49m\u001b[43mto_mat\u001b[49m\u001b[43m(\u001b[49m\u001b[43m)\u001b[49m\u001b[38;5;241m.\u001b[39mtolist())\n\u001b[0;32m      3\u001b[0m q_matrix  \u001b[38;5;66;03m# Ensure q_matrix is a homogeneous 2D array\u001b[39;00m\n",
      "File \u001b[1;32mc:\\Users\\danie\\Documents\\Documents\\CURSOS\\Self-Driving_Cars_Specialization\\State Estimation and Localization for Self-Driving Cars\\week6\\solution\\rotations.py:113\u001b[0m, in \u001b[0;36mQuaternion.to_mat\u001b[1;34m(self)\u001b[0m\n\u001b[0;32m    110\u001b[0m \u001b[38;5;28;01mdef\u001b[39;00m \u001b[38;5;21mto_mat\u001b[39m(\u001b[38;5;28mself\u001b[39m):\n\u001b[0;32m    111\u001b[0m     v \u001b[38;5;241m=\u001b[39m np\u001b[38;5;241m.\u001b[39marray([\u001b[38;5;28mself\u001b[39m\u001b[38;5;241m.\u001b[39mx, \u001b[38;5;28mself\u001b[39m\u001b[38;5;241m.\u001b[39my, \u001b[38;5;28mself\u001b[39m\u001b[38;5;241m.\u001b[39mz])\u001b[38;5;241m.\u001b[39mreshape(\u001b[38;5;241m3\u001b[39m,\u001b[38;5;241m1\u001b[39m)\n\u001b[0;32m    112\u001b[0m     \u001b[38;5;28;01mreturn\u001b[39;00m (\u001b[38;5;28mself\u001b[39m\u001b[38;5;241m.\u001b[39mw \u001b[38;5;241m*\u001b[39m\u001b[38;5;241m*\u001b[39m \u001b[38;5;241m2\u001b[39m \u001b[38;5;241m-\u001b[39m np\u001b[38;5;241m.\u001b[39mdot(v\u001b[38;5;241m.\u001b[39mT, v)) \u001b[38;5;241m*\u001b[39m np\u001b[38;5;241m.\u001b[39meye(\u001b[38;5;241m3\u001b[39m) \u001b[38;5;241m+\u001b[39m \\\n\u001b[1;32m--> 113\u001b[0m            \u001b[38;5;241m2\u001b[39m \u001b[38;5;241m*\u001b[39m np\u001b[38;5;241m.\u001b[39mdot(v, v\u001b[38;5;241m.\u001b[39mT) \u001b[38;5;241m+\u001b[39m \u001b[38;5;241m2\u001b[39m \u001b[38;5;241m*\u001b[39m \u001b[38;5;28mself\u001b[39m\u001b[38;5;241m.\u001b[39mw \u001b[38;5;241m*\u001b[39m \u001b[43mskew_symmetric\u001b[49m\u001b[43m(\u001b[49m\u001b[43mv\u001b[49m\u001b[43m)\u001b[49m\n",
      "File \u001b[1;32mc:\\Users\\danie\\Documents\\Documents\\CURSOS\\Self-Driving_Cars_Specialization\\State Estimation and Localization for Self-Driving Cars\\week6\\solution\\rotations.py:16\u001b[0m, in \u001b[0;36mskew_symmetric\u001b[1;34m(v)\u001b[0m\n\u001b[0;32m     14\u001b[0m \u001b[38;5;28;01mdef\u001b[39;00m \u001b[38;5;21mskew_symmetric\u001b[39m(v):\n\u001b[0;32m     15\u001b[0m \u001b[38;5;250m    \u001b[39m\u001b[38;5;124;03m\"\"\"Skew symmetric form of a 3x1 vector.\"\"\"\u001b[39;00m\n\u001b[1;32m---> 16\u001b[0m     \u001b[38;5;28;01mreturn\u001b[39;00m \u001b[43mnp\u001b[49m\u001b[38;5;241;43m.\u001b[39;49m\u001b[43marray\u001b[49m\u001b[43m(\u001b[49m\n\u001b[0;32m     17\u001b[0m \u001b[43m        \u001b[49m\u001b[43m[\u001b[49m\u001b[43m[\u001b[49m\u001b[38;5;241;43m0\u001b[39;49m\u001b[43m,\u001b[49m\u001b[43m \u001b[49m\u001b[38;5;241;43m-\u001b[39;49m\u001b[43mv\u001b[49m\u001b[43m[\u001b[49m\u001b[38;5;241;43m2\u001b[39;49m\u001b[43m]\u001b[49m\u001b[43m,\u001b[49m\u001b[43m \u001b[49m\u001b[43mv\u001b[49m\u001b[43m[\u001b[49m\u001b[38;5;241;43m1\u001b[39;49m\u001b[43m]\u001b[49m\u001b[43m]\u001b[49m\u001b[43m,\u001b[49m\n\u001b[0;32m     18\u001b[0m \u001b[43m         \u001b[49m\u001b[43m[\u001b[49m\u001b[43mv\u001b[49m\u001b[43m[\u001b[49m\u001b[38;5;241;43m2\u001b[39;49m\u001b[43m]\u001b[49m\u001b[43m,\u001b[49m\u001b[43m \u001b[49m\u001b[38;5;241;43m0\u001b[39;49m\u001b[43m,\u001b[49m\u001b[43m \u001b[49m\u001b[38;5;241;43m-\u001b[39;49m\u001b[43mv\u001b[49m\u001b[43m[\u001b[49m\u001b[38;5;241;43m0\u001b[39;49m\u001b[43m]\u001b[49m\u001b[43m]\u001b[49m\u001b[43m,\u001b[49m\n\u001b[0;32m     19\u001b[0m \u001b[43m         \u001b[49m\u001b[43m[\u001b[49m\u001b[38;5;241;43m-\u001b[39;49m\u001b[43mv\u001b[49m\u001b[43m[\u001b[49m\u001b[38;5;241;43m1\u001b[39;49m\u001b[43m]\u001b[49m\u001b[43m,\u001b[49m\u001b[43m \u001b[49m\u001b[43mv\u001b[49m\u001b[43m[\u001b[49m\u001b[38;5;241;43m0\u001b[39;49m\u001b[43m]\u001b[49m\u001b[43m,\u001b[49m\u001b[43m \u001b[49m\u001b[38;5;241;43m0\u001b[39;49m\u001b[43m]\u001b[49m\u001b[43m]\u001b[49m\u001b[43m,\u001b[49m\u001b[43m \u001b[49m\u001b[43mdtype\u001b[49m\u001b[38;5;241;43m=\u001b[39;49m\u001b[43mnp\u001b[49m\u001b[38;5;241;43m.\u001b[39;49m\u001b[43mfloat64\u001b[49m\u001b[43m)\u001b[49m\n",
      "\u001b[1;31mValueError\u001b[0m: setting an array element with a sequence. The requested array has an inhomogeneous shape after 2 dimensions. The detected shape was (3, 3) + inhomogeneous part."
     ]
    }
   ],
   "source": [
    "q = Quaternion(*q_est[0])\n",
    "q_matrix = np.array(q.to_mat().tolist())\n",
    "q_matrix  # Ensure q_matrix is a homogeneous 2D array\n"
   ]
  },
  {
   "cell_type": "code",
   "execution_count": 2105,
   "metadata": {},
   "outputs": [],
   "source": [
    "# ??skew_symmetric"
   ]
  },
  {
   "cell_type": "code",
   "execution_count": null,
   "metadata": {},
   "outputs": [],
   "source": [
    "aa = np.array([[0,0], [1,0],[0,1]])\n",
    "aa"
   ]
  },
  {
   "cell_type": "code",
   "execution_count": 2107,
   "metadata": {
    "scrolled": false
   },
   "outputs": [],
   "source": [
    "#### 5. Main Filter Loop #######################################################################\n",
    "\n",
    "################################################################################################\n",
    "# Now that everything is set up, we can start taking in the sensor data and creating estimates\n",
    "# for our state in a loop.\n",
    "################################################################################################\n",
    "for k in range(1, imu_f.data.shape[0]):  # start at 1 b/c we have initial prediction from gt\n",
    "    delta_t = imu_f.t[k] - imu_f.t[k - 1]\n",
    "\n",
    "    # 1. Update state with IMU inputs\n",
    "    C_ns = Quaternion(*q_est[k-1]).to_mat()\n",
    "\n",
    "    C_ns_d_f_km = np.dot(C_ns, imu_f.data[k-1])\n",
    "\n",
    "    p_est[k] = p_est[k-1] + delta_t * v_est[k-1] + (delta_t**2) / 2 * (C_ns_d_f_km + g)\n",
    "    v_est[k] = v_est[k-1] + delta_t * (C_ns_d_f_km + g)\n",
    "    q_fr_w = Quaternion(axis_angle=imu_w.data[k-1] * delta_t)\n",
    "    q_est[k] = q_fr_w.quat_mult_right(q_est[k-1])\n",
    "\n",
    "    # 1.1 Linearize the motion model and compute Jacobians\n",
    "    f_ja_km = np.identity(9)\n",
    "    f_ja_km[0:3, 3:6] = np.identity(3) * delta_t\n",
    "    f_ja_km[3:6, 6:9] = -skew_symmetric(C_ns_d_f_km) * delta_t\n",
    "\n",
    "    # 2. Propagate uncertainty\n",
    "    q_cov_km = np.identity(6)\n",
    "    q_cov_km[0:3,0:3] *=  delta_t**2 * np.eye(3) * var_imu_f\n",
    "    q_cov_km[3:6, 3:6] *= delta_t**2 * np.eye(3) * var_imu_w\n",
    "    p_cov[k] = f_ja_km.dot(p_cov[k-1]).dot(f_ja_km.T) + l_jac.dot(q_cov_km).dot(l_jac.T)\n",
    "    # 3. Check availability of GNSS and LIDAR measurements\n",
    "    if gnss_i < gnss.data.shape[0] and imu_f.t[k] == gnss.t[gnss_i]:\n",
    "        p_est[k], v_est[k], q_est[k], p_cov[k] = \\\n",
    "            measurement_update(var_gnss, p_cov[k], gnss.data[gnss_i].T, p_est[k], v_est[k], q_est[k])\n",
    "        gnss_i += 1\n",
    "\n",
    "    if lidar_i < lidar.t.shape[0] and lidar.t[lidar_i] == imu_f.t[k-1]:\n",
    "        p_est[k], v_est[k], q_est[k], p_cov[k] = \\\n",
    "            measurement_update(var_lidar, p_cov[k], lidar.data[lidar_i].T, p_est[k], v_est[k], q_est[k])\n",
    "        lidar_i += 1\n"
   ]
  },
  {
   "cell_type": "code",
   "execution_count": null,
   "metadata": {},
   "outputs": [],
   "source": [
    "q_check"
   ]
  },
  {
   "cell_type": "code",
   "execution_count": null,
   "metadata": {},
   "outputs": [],
   "source": [
    "np.zeros(3)"
   ]
  },
  {
   "cell_type": "code",
   "execution_count": null,
   "metadata": {},
   "outputs": [],
   "source": [
    "#### 6. Results and Analysis ###################################################################\n",
    "\n",
    "################################################################################################\n",
    "# Now that we have state estimates for all of our sensor data, let's plot the results. This plot\n",
    "# will show the ground truth and the estimated trajectories on the same plot. Notice that the\n",
    "# estimated trajectory continues past the ground truth. This is because we will be evaluating\n",
    "# your estimated poses from the part of the trajectory where you don't have ground truth!\n",
    "################################################################################################\n",
    "est_traj_fig = plt.figure()\n",
    "ax = est_traj_fig.add_subplot(111, projection='3d')\n",
    "ax.plot(p_est[:,0], p_est[:,1], p_est[:,2], label='Estimated')\n",
    "ax.plot(gt.p[:,0], gt.p[:,1], gt.p[:,2], label='Ground Truth')\n",
    "ax.set_xlabel('Easting [m]')\n",
    "ax.set_ylabel('Northing [m]')\n",
    "ax.set_zlabel('Up [m]')\n",
    "ax.set_title('Ground Truth and Estimated Trajectory')\n",
    "ax.set_xlim(0, 200)\n",
    "ax.set_ylim(0, 200)\n",
    "ax.set_zlim(-2, 2)\n",
    "ax.set_xticks([0, 50, 100, 150, 200])\n",
    "ax.set_yticks([0, 50, 100, 150, 200])\n",
    "ax.set_zticks([-2, -1, 0, 1, 2])\n",
    "ax.legend(loc=(0.62,0.77))\n",
    "ax.view_init(elev=45, azim=-50)\n",
    "plt.show()"
   ]
  },
  {
   "cell_type": "code",
   "execution_count": null,
   "metadata": {},
   "outputs": [],
   "source": [
    "################################################################################################\n",
    "# We can also plot the error for each of the 6 DOF, with estimates for our uncertainty\n",
    "# included. The error estimates are in blue, and the uncertainty bounds are red and dashed.\n",
    "# The uncertainty bounds are +/- 3 standard deviations based on our uncertainty (covariance).\n",
    "################################################################################################\n",
    "error_fig, ax = plt.subplots(2, 3)\n",
    "error_fig.suptitle('Error Plots')\n",
    "num_gt = gt.p.shape[0]\n",
    "p_est_euler = []\n",
    "p_cov_euler_std = []\n",
    "\n",
    "# Convert estimated quaternions to euler angles\n",
    "for i in range(len(q_est)):\n",
    "    qc = Quaternion(*q_est[i, :])\n",
    "    p_est_euler.append(qc.to_euler())\n",
    "\n",
    "    # First-order approximation of RPY covariance\n",
    "    J = rpy_jacobian_axis_angle(qc.to_axis_angle())\n",
    "    p_cov_euler_std.append(np.sqrt(np.diagonal(J @ p_cov[i, 6:, 6:] @ J.T)))\n",
    "\n",
    "p_est_euler = np.array(p_est_euler)\n",
    "p_cov_euler_std = np.array(p_cov_euler_std)\n",
    "\n",
    "# Get uncertainty estimates from P matrix\n",
    "p_cov_std = np.sqrt(np.diagonal(p_cov[:, :6, :6], axis1=1, axis2=2))\n",
    "\n",
    "titles = ['Easting', 'Northing', 'Up', 'Roll', 'Pitch', 'Yaw']\n",
    "for i in range(3):\n",
    "    ax[0, i].plot(range(num_gt), gt.p[:, i] - p_est[:num_gt, i])\n",
    "    ax[0, i].plot(range(num_gt),  3 * p_cov_std[:num_gt, i], 'r--')\n",
    "    ax[0, i].plot(range(num_gt), -3 * p_cov_std[:num_gt, i], 'r--')\n",
    "    ax[0, i].set_title(titles[i])\n",
    "ax[0,0].set_ylabel('Meters')\n",
    "\n",
    "for i in range(3):\n",
    "    ax[1, i].plot(range(num_gt), \\\n",
    "        angle_normalize(gt.r[:, i] - p_est_euler[:num_gt, i]))\n",
    "    ax[1, i].plot(range(num_gt),  3 * p_cov_euler_std[:num_gt, i], 'r--')\n",
    "    ax[1, i].plot(range(num_gt), -3 * p_cov_euler_std[:num_gt, i], 'r--')\n",
    "    ax[1, i].set_title(titles[i+3])\n",
    "ax[1,0].set_ylabel('Radians')\n",
    "plt.show()"
   ]
  },
  {
   "cell_type": "code",
   "execution_count": 2112,
   "metadata": {},
   "outputs": [],
   "source": [
    "#### 7. Submission #############################################################################\n",
    "\n",
    "################################################################################################\n",
    "# Now we can prepare your results for submission to the Coursera platform. Uncomment the\n",
    "# corresponding lines to prepare a file that will save your position estimates in a format\n",
    "# that corresponds to what we're expecting on Coursera.\n",
    "################################################################################################\n",
    "\n",
    "# Pt. 1 submission\n",
    "# p1_indices = [9000, 9400, 9800, 10200, 10600]\n",
    "# p1_str = ''\n",
    "# for val in p1_indices:\n",
    "#     for i in range(3):\n",
    "#         p1_str += '%.3f ' % (p_est[val, i])\n",
    "# with open('pt1_submission.txt', 'w') as file:\n",
    "#     file.write(p1_str)\n",
    "\n",
    "# Pt. 2 submission\n",
    "# p2_indices = [9000, 9400, 9800, 10200, 10600]\n",
    "# p2_str = ''\n",
    "# for val in p2_indices:\n",
    "#     for i in range(3):\n",
    "#         p2_str += '%.3f ' % (p_est[val, i])\n",
    "# with open('pt2_submission.txt', 'w') as file:\n",
    "#     file.write(p2_str)\n",
    "\n",
    "# Pt. 3 submission\n",
    "p3_indices = [6800, 7600, 8400, 9200, 10000]\n",
    "p3_str = ''\n",
    "for val in p3_indices:\n",
    "    for i in range(3):\n",
    "        p3_str += '%.3f ' % (p_est[val, i])\n",
    "with open('pt3_submission.txt', 'w') as file:\n",
    "    file.write(p3_str)"
   ]
  }
 ],
 "metadata": {
  "kernelspec": {
   "display_name": "Python 3",
   "language": "python",
   "name": "python3"
  },
  "language_info": {
   "codemirror_mode": {
    "name": "ipython",
    "version": 3
   },
   "file_extension": ".py",
   "mimetype": "text/x-python",
   "name": "python",
   "nbconvert_exporter": "python",
   "pygments_lexer": "ipython3",
   "version": "3.12.0"
  }
 },
 "nbformat": 4,
 "nbformat_minor": 2
}
